{
 "cells": [
  {
   "cell_type": "code",
   "execution_count": 1,
   "metadata": {},
   "outputs": [],
   "source": [
    "import tensorflow as tf\n",
    "import numpy as np\n",
    "import argparse\n",
    "from datetime import datetime\n",
    "import os\n",
    "\n",
    "from data_loader import DataGenerator\n",
    "\n",
    "from trainer import MatchingModelTrainer\n",
    "from preprocessor import DynamicPreprocessor\n",
    "from utils.dirs import create_dirs\n",
    "from utils.logger import SummaryWriter\n",
    "from utils.config import load_config, save_config\n",
    "from models.base import get_model\n",
    "from utils.utils import JamoProcessor"
   ]
  },
  {
   "cell_type": "code",
   "execution_count": 2,
   "metadata": {},
   "outputs": [],
   "source": [
    "os.environ[\"CUDA_VISIBLE_DEVICES\"]=\"0\""
   ]
  },
  {
   "cell_type": "code",
   "execution_count": 6,
   "metadata": {},
   "outputs": [],
   "source": [
    "class Config:\n",
    "    def __init__(self):\n",
    "        self.mode = \"train\"\n",
    "        self.name = \"debug_embedding\"\n",
    "        self.config = \"\"\n",
    "        self.train_dir = \"/media/scatter/scatterdisk/reply_matching_model/debug/\"\n",
    "        self.val_dir = \"/media/scatter/scatterdisk/reply_matching_model/debug/sol.small.txt\"\n",
    "        self.pretrained_embed_dir = \"/media/scatter/scatterdisk/pretrained_embedding/fasttext.sent_piece_100K.256D\"\n",
    "        self.checkpoint_dir = \"/media/scatter/scatterdisk/reply_matching_model/runs/\"\n",
    "        self.model = \"DualEncoderBiLSTM\"\n",
    "        self.sent_piece_model = \"/media/scatter/scatterdisk/tokenizer/sent_piece.100K.model\"\n",
    "        self.soynlp_scores = \"/media/scatter/scatterdisk/tokenizer/soynlp_scores.sol.100M.txt\"\n",
    "        self.normalizer = \"DummyNormalizer\"\n",
    "        self.tokenizer = \"SentencePieceTokenizer\"\n",
    "        self.vocab_size = 90000\n",
    "        self.vocab_list = \"/media/scatter/scatterdisk/pretrained_embedding/vocab_list.sent_piece_100K.txt\"\n",
    "        \n",
    "        self.embed_dim = 256\n",
    "        self.learning_rate = 1e-3\n",
    "        self.min_length = 1\n",
    "        self.max_length = 20\n",
    "        self.dropout_keep_prob = 1\n",
    "        \n",
    "        self.lstm_dim = 512\n",
    "        self.tcn_num_channels = 3\n",
    "        self.tcn_kernel_size = 2\n",
    "        \n",
    "        self.batch_size = 64\n",
    "        self.num_epochs = 300\n",
    "        self.evaluate_every = 20\n",
    "        self.save_every = 100\n",
    "        \n",
    "        self.max_to_keep = 1\n",
    "        self.shuffle = True\n",
    "        \n",
    "        self.negative_sampling = \"random\"\n",
    "        self.num_negative_samples = 4\n",
    "\n",
    "config = Config()"
   ]
  },
  {
   "cell_type": "code",
   "execution_count": 7,
   "metadata": {},
   "outputs": [],
   "source": [
    "config = create_dirs(config)"
   ]
  },
  {
   "cell_type": "code",
   "execution_count": 8,
   "metadata": {},
   "outputs": [],
   "source": [
    "device_config = tf.ConfigProto()\n",
    "device_config.gpu_options.allow_growth = True\n",
    "sess = tf.Session(config=device_config)\n",
    "preprocessor = DynamicPreprocessor(config)\n",
    "data = DataGenerator(preprocessor, config)\n",
    "data.train_size = 1000"
   ]
  },
  {
   "cell_type": "code",
   "execution_count": 9,
   "metadata": {},
   "outputs": [],
   "source": [
    "summary_writer = SummaryWriter(sess, config)"
   ]
  },
  {
   "cell_type": "code",
   "execution_count": 10,
   "metadata": {},
   "outputs": [],
   "source": [
    "trainer = MatchingModelTrainer(sess, preprocessor, data, config, summary_writer)"
   ]
  },
  {
   "cell_type": "code",
   "execution_count": 11,
   "metadata": {},
   "outputs": [
    {
     "name": "stderr",
     "output_type": "stream",
     "text": [
      "\u001b[32m[17:18:07][INFO] Building train graph... \u001b[0m\n"
     ]
    },
    {
     "name": "stdout",
     "output_type": "stream",
     "text": [
      "Pre-trained embedding loaded. Number of OOV : 5272 / 90000\n",
      "WARNING:tensorflow:From /home/angrypark/angryenv/lib/python3.5/site-packages/tensorflow/python/ops/rnn.py:417: calling reverse_sequence (from tensorflow.python.ops.array_ops) with seq_dim is deprecated and will be removed in a future version.\n",
      "Instructions for updating:\n",
      "seq_dim is deprecated, use seq_axis instead\n",
      "WARNING:tensorflow:From /home/angrypark/angryenv/lib/python3.5/site-packages/tensorflow/python/util/deprecation.py:432: calling reverse_sequence (from tensorflow.python.ops.array_ops) with batch_dim is deprecated and will be removed in a future version.\n",
      "Instructions for updating:\n",
      "batch_dim is deprecated, use batch_axis instead\n"
     ]
    },
    {
     "name": "stderr",
     "output_type": "stream",
     "text": [
      "/home/angrypark/angryenv/lib/python3.5/site-packages/tensorflow/python/ops/gradients_impl.py:100: UserWarning: Converting sparse IndexedSlices to a dense Tensor of unknown shape. This may consume a large amount of memory.\n",
      "  \"Converting sparse IndexedSlices to a dense Tensor of unknown shape. \"\n",
      "\u001b[32m[17:18:20][INFO] Loading checkpoint from /media/scatter/scatterdisk/reply_matching_model/runs/debug_embedding/ \u001b[0m\n",
      "\u001b[31m[17:18:20][ERROR] No checkpoint found in /media/scatter/scatterdisk/reply_matching_model/runs/debug_embedding/ \u001b[0m\n",
      "\u001b[32m[17:18:20][INFO] Building val graph... \u001b[0m\n"
     ]
    },
    {
     "name": "stdout",
     "output_type": "stream",
     "text": [
      "Pre-trained embedding loaded. Number of OOV : 5272 / 90000\n"
     ]
    },
    {
     "name": "stderr",
     "output_type": "stream",
     "text": [
      "\u001b[33m[17:18:30][WARNING] =================================== Epoch 1 Start ! =================================== \u001b[0m\n",
      "100%|██████████| 16/16 [00:04<00:00,  3.25it/s]\n",
      "\u001b[33m[17:18:34][WARNING] =================================== Epoch 1 Done ! =================================== \u001b[0m\n"
     ]
    },
    {
     "name": "stdout",
     "output_type": "stream",
     "text": [
      "INFO:tensorflow:Restoring parameters from /media/scatter/scatterdisk/reply_matching_model/runs/debug_embedding/model.ckpt\n"
     ]
    },
    {
     "name": "stderr",
     "output_type": "stream",
     "text": [
      "100%|██████████| 16/16 [00:05<00:00,  2.87it/s]\n",
      "\u001b[33m[17:18:42][WARNING] [Step 17] Saving for best loss : 100000.00000 -> 5.96370 \u001b[0m\n",
      "\u001b[33m[17:18:44][WARNING] | Val loss : 5.9637 | Val accuracy : 0.7825  \u001b[0m\n",
      "\u001b[33m[17:18:44][WARNING] =================================== Epoch 2 Start ! =================================== \u001b[0m\n",
      " 12%|█▎        | 2/16 [00:00<00:05,  2.55it/s]"
     ]
    },
    {
     "name": "stdout",
     "output_type": "stream",
     "text": [
      "INFO:tensorflow:Restoring parameters from /media/scatter/scatterdisk/reply_matching_model/runs/debug_embedding/model.ckpt\n"
     ]
    },
    {
     "name": "stderr",
     "output_type": "stream",
     "text": [
      "\n",
      "  0%|          | 0/16 [00:00<?, ?it/s]\u001b[A\n",
      "  6%|▋         | 1/16 [00:00<00:07,  2.04it/s]\u001b[A\n",
      " 12%|█▎        | 2/16 [00:00<00:05,  2.38it/s]\u001b[A\n",
      " 19%|█▉        | 3/16 [00:01<00:04,  2.67it/s]\u001b[A\n",
      " 25%|██▌       | 4/16 [00:01<00:04,  2.99it/s]\u001b[A\n",
      " 31%|███▏      | 5/16 [00:01<00:03,  3.08it/s]\u001b[A\n",
      " 38%|███▊      | 6/16 [00:01<00:03,  3.01it/s]\u001b[A\n",
      " 44%|████▍     | 7/16 [00:02<00:02,  3.09it/s]\u001b[A\n",
      " 50%|█████     | 8/16 [00:02<00:02,  3.14it/s]\u001b[A\n",
      " 56%|█████▋    | 9/16 [00:03<00:02,  3.00it/s]\u001b[A\n",
      " 62%|██████▎   | 10/16 [00:03<00:01,  3.08it/s]\u001b[A\n",
      " 69%|██████▉   | 11/16 [00:03<00:01,  3.08it/s]\u001b[A\n",
      " 75%|███████▌  | 12/16 [00:03<00:01,  3.18it/s]\u001b[A\n",
      " 81%|████████▏ | 13/16 [00:04<00:00,  3.12it/s]\u001b[A\n",
      " 88%|████████▊ | 14/16 [00:04<00:00,  3.10it/s]\u001b[A\n",
      " 94%|█████████▍| 15/16 [00:04<00:00,  3.14it/s]\u001b[A\n",
      "100%|██████████| 16/16 [00:05<00:00,  3.17it/s]\u001b[A\n",
      "\u001b[A\u001b[33m[17:18:50][WARNING] [Step 20] Saving for best loss : 5.96370 -> 5.70884 \u001b[0m\n",
      "\u001b[33m[17:18:55][WARNING] Epoch :  2 | Step :        3 | Train loss : 5.5493 | Train accuracy : 0.7956 | Val loss : 5.7088 | Val accuracy : 0.7794  \u001b[0m\n",
      "100%|██████████| 16/16 [00:13<00:00,  1.20it/s]\n",
      "\u001b[33m[17:18:57][WARNING] =================================== Epoch 2 Done ! =================================== \u001b[0m\n"
     ]
    },
    {
     "name": "stdout",
     "output_type": "stream",
     "text": [
      "INFO:tensorflow:Restoring parameters from /media/scatter/scatterdisk/reply_matching_model/runs/debug_embedding/model.ckpt\n"
     ]
    },
    {
     "name": "stderr",
     "output_type": "stream",
     "text": [
      "100%|██████████| 16/16 [00:04<00:00,  3.30it/s]\n",
      "\u001b[33m[17:19:07][WARNING] [Step 33] Saving for best loss : 5.70884 -> 2.97187 \u001b[0m\n",
      "\u001b[33m[17:19:12][WARNING] | Val loss : 2.9719 | Val accuracy : 0.8185  \u001b[0m\n",
      "\u001b[33m[17:19:12][WARNING] =================================== Epoch 3 Start ! =================================== \u001b[0m\n",
      " 38%|███▊      | 6/16 [00:01<00:02,  4.02it/s]"
     ]
    },
    {
     "name": "stdout",
     "output_type": "stream",
     "text": [
      "INFO:tensorflow:Restoring parameters from /media/scatter/scatterdisk/reply_matching_model/runs/debug_embedding/model.ckpt\n"
     ]
    },
    {
     "name": "stderr",
     "output_type": "stream",
     "text": [
      "\n",
      "  0%|          | 0/16 [00:00<?, ?it/s]\u001b[A\n",
      "  6%|▋         | 1/16 [00:00<00:07,  2.09it/s]\u001b[A\n",
      " 12%|█▎        | 2/16 [00:00<00:04,  2.82it/s]\u001b[A\n",
      " 19%|█▉        | 3/16 [00:00<00:03,  3.29it/s]\u001b[A\n",
      " 25%|██▌       | 4/16 [00:01<00:03,  3.09it/s]\u001b[A\n",
      " 31%|███▏      | 5/16 [00:01<00:03,  3.25it/s]\u001b[A\n",
      " 38%|███▊      | 6/16 [00:01<00:02,  3.44it/s]\u001b[A\n",
      " 44%|████▍     | 7/16 [00:02<00:02,  3.40it/s]\u001b[A\n",
      " 50%|█████     | 8/16 [00:02<00:02,  3.33it/s]\u001b[A\n",
      " 56%|█████▋    | 9/16 [00:02<00:02,  3.09it/s]\u001b[A\n",
      " 62%|██████▎   | 10/16 [00:03<00:01,  3.28it/s]\u001b[A\n",
      " 69%|██████▉   | 11/16 [00:03<00:01,  3.39it/s]\u001b[A\n",
      " 75%|███████▌  | 12/16 [00:03<00:01,  3.37it/s]\u001b[A\n",
      " 81%|████████▏ | 13/16 [00:03<00:00,  3.47it/s]\u001b[A\n",
      " 88%|████████▊ | 14/16 [00:04<00:00,  3.46it/s]\u001b[A\n",
      " 94%|█████████▍| 15/16 [00:04<00:00,  3.44it/s]\u001b[A\n",
      "100%|██████████| 16/16 [00:04<00:00,  3.38it/s]\u001b[A\n",
      "\u001b[A\u001b[33m[17:19:18][WARNING] [Step 40] Saving for best loss : 2.97187 -> 2.80176 \u001b[0m\n",
      "\u001b[33m[17:19:23][WARNING] Epoch :  3 | Step :        7 | Train loss : 3.0075 | Train accuracy : 0.8426 | Val loss : 2.8018 | Val accuracy : 0.8137  \u001b[0m\n",
      "100%|██████████| 16/16 [00:13<00:00,  1.23it/s]\n",
      "\u001b[33m[17:19:25][WARNING] =================================== Epoch 3 Done ! =================================== \u001b[0m\n"
     ]
    },
    {
     "name": "stdout",
     "output_type": "stream",
     "text": [
      "INFO:tensorflow:Restoring parameters from /media/scatter/scatterdisk/reply_matching_model/runs/debug_embedding/model.ckpt\n"
     ]
    },
    {
     "name": "stderr",
     "output_type": "stream",
     "text": [
      "100%|██████████| 16/16 [00:05<00:00,  3.13it/s]\n",
      "\u001b[33m[17:19:34][WARNING] [Step 49] Saving for best loss : 2.80176 -> 1.50567 \u001b[0m\n",
      "\u001b[33m[17:19:39][WARNING] | Val loss : 1.5057 | Val accuracy : 0.8814  \u001b[0m\n",
      "\u001b[33m[17:19:39][WARNING] =================================== Epoch 4 Start ! =================================== \u001b[0m\n",
      " 62%|██████▎   | 10/16 [00:01<00:01,  5.28it/s]"
     ]
    },
    {
     "name": "stdout",
     "output_type": "stream",
     "text": [
      "INFO:tensorflow:Restoring parameters from /media/scatter/scatterdisk/reply_matching_model/runs/debug_embedding/model.ckpt\n"
     ]
    },
    {
     "name": "stderr",
     "output_type": "stream",
     "text": [
      "\n",
      "  0%|          | 0/16 [00:00<?, ?it/s]\u001b[A\n",
      "  6%|▋         | 1/16 [00:00<00:06,  2.28it/s]\u001b[A\n",
      " 12%|█▎        | 2/16 [00:00<00:04,  2.92it/s]\u001b[A\n",
      " 19%|█▉        | 3/16 [00:00<00:04,  3.12it/s]\u001b[A\n",
      " 25%|██▌       | 4/16 [00:01<00:04,  2.89it/s]\u001b[A\n",
      " 31%|███▏      | 5/16 [00:01<00:03,  3.13it/s]\u001b[A\n",
      " 38%|███▊      | 6/16 [00:01<00:03,  3.05it/s]\u001b[A\n",
      " 44%|████▍     | 7/16 [00:02<00:02,  3.26it/s]\u001b[A\n",
      " 50%|█████     | 8/16 [00:02<00:02,  3.15it/s]\u001b[A\n",
      " 56%|█████▋    | 9/16 [00:03<00:02,  2.84it/s]\u001b[A\n",
      " 62%|██████▎   | 10/16 [00:03<00:02,  2.81it/s]\u001b[A\n",
      " 69%|██████▉   | 11/16 [00:03<00:01,  2.84it/s]\u001b[A\n",
      " 75%|███████▌  | 12/16 [00:04<00:01,  2.85it/s]\u001b[A\n",
      " 81%|████████▏ | 13/16 [00:04<00:01,  2.93it/s]\u001b[A\n",
      " 88%|████████▊ | 14/16 [00:04<00:00,  2.99it/s]\u001b[A\n",
      " 94%|█████████▍| 15/16 [00:04<00:00,  3.00it/s]\u001b[A\n",
      "100%|██████████| 16/16 [00:05<00:00,  3.08it/s]\u001b[A\n",
      "\u001b[A\u001b[33m[17:19:47][WARNING] Epoch :  4 | Step :       11 | Train loss : 1.9219 | Train accuracy : 0.8777 | Val loss : 1.6665 | Val accuracy : 0.8889  \u001b[0m\n",
      "100%|██████████| 16/16 [00:08<00:00,  1.87it/s]\n",
      "\u001b[33m[17:19:48][WARNING] =================================== Epoch 4 Done ! =================================== \u001b[0m\n"
     ]
    },
    {
     "name": "stdout",
     "output_type": "stream",
     "text": [
      "INFO:tensorflow:Restoring parameters from /media/scatter/scatterdisk/reply_matching_model/runs/debug_embedding/model.ckpt\n"
     ]
    },
    {
     "name": "stderr",
     "output_type": "stream",
     "text": [
      "100%|██████████| 16/16 [00:04<00:00,  3.53it/s]\n",
      "\u001b[33m[17:19:57][WARNING] [Step 65] Saving for best loss : 1.50567 -> 1.01649 \u001b[0m\n",
      "\u001b[33m[17:20:02][WARNING] | Val loss : 1.0165 | Val accuracy : 0.9038  \u001b[0m\n",
      "\u001b[33m[17:20:02][WARNING] =================================== Epoch 5 Start ! =================================== \u001b[0m\n",
      " 88%|████████▊ | 14/16 [00:03<00:00,  4.13it/s]"
     ]
    },
    {
     "name": "stdout",
     "output_type": "stream",
     "text": [
      "INFO:tensorflow:Restoring parameters from /media/scatter/scatterdisk/reply_matching_model/runs/debug_embedding/model.ckpt\n"
     ]
    },
    {
     "name": "stderr",
     "output_type": "stream",
     "text": [
      "\n",
      "  0%|          | 0/16 [00:00<?, ?it/s]\u001b[A\n",
      "  6%|▋         | 1/16 [00:00<00:07,  1.97it/s]\u001b[A\n",
      " 12%|█▎        | 2/16 [00:00<00:05,  2.38it/s]\u001b[A\n",
      " 19%|█▉        | 3/16 [00:01<00:05,  2.47it/s]\u001b[A\n",
      " 25%|██▌       | 4/16 [00:01<00:04,  2.92it/s]\u001b[A\n",
      " 31%|███▏      | 5/16 [00:01<00:03,  3.04it/s]\u001b[A\n",
      " 38%|███▊      | 6/16 [00:01<00:03,  3.11it/s]\u001b[A\n",
      " 44%|████▍     | 7/16 [00:02<00:02,  3.07it/s]\u001b[A\n",
      " 50%|█████     | 8/16 [00:02<00:02,  3.09it/s]\u001b[A\n",
      " 56%|█████▋    | 9/16 [00:03<00:02,  2.90it/s]\u001b[A\n",
      " 62%|██████▎   | 10/16 [00:03<00:02,  2.89it/s]\u001b[A\n",
      " 69%|██████▉   | 11/16 [00:03<00:01,  2.96it/s]\u001b[A\n",
      " 75%|███████▌  | 12/16 [00:04<00:01,  2.98it/s]\u001b[A\n",
      " 81%|████████▏ | 13/16 [00:04<00:00,  3.01it/s]\u001b[A\n",
      " 88%|████████▊ | 14/16 [00:04<00:00,  2.92it/s]\u001b[A\n",
      " 94%|█████████▍| 15/16 [00:05<00:00,  2.95it/s]\u001b[A\n",
      "100%|██████████| 16/16 [00:05<00:00,  2.92it/s]\u001b[A\n",
      "\u001b[A\u001b[33m[17:20:11][WARNING] Epoch :  5 | Step :       15 | Train loss : 1.0808 | Train accuracy : 0.8933 | Val loss : 1.0311 | Val accuracy : 0.8994  \u001b[0m\n",
      "100%|██████████| 16/16 [00:09<00:00,  1.64it/s]\n",
      "\u001b[33m[17:20:12][WARNING] =================================== Epoch 5 Done ! =================================== \u001b[0m\n"
     ]
    },
    {
     "name": "stdout",
     "output_type": "stream",
     "text": [
      "INFO:tensorflow:Restoring parameters from /media/scatter/scatterdisk/reply_matching_model/runs/debug_embedding/model.ckpt\n"
     ]
    },
    {
     "name": "stderr",
     "output_type": "stream",
     "text": [
      "100%|██████████| 16/16 [00:04<00:00,  3.48it/s]\n",
      "\u001b[33m[17:20:21][WARNING] [Step 81] Saving for best loss : 1.01649 -> 0.77369 \u001b[0m\n",
      "\u001b[33m[17:20:25][WARNING] | Val loss : 0.7737 | Val accuracy : 0.9164  \u001b[0m\n",
      "\u001b[33m[17:20:25][WARNING] =================================== Epoch 6 Start ! =================================== \u001b[0m\n",
      "100%|██████████| 16/16 [00:03<00:00,  5.05it/s]\n",
      "\u001b[33m[17:20:28][WARNING] =================================== Epoch 6 Done ! =================================== \u001b[0m\n"
     ]
    },
    {
     "name": "stdout",
     "output_type": "stream",
     "text": [
      "INFO:tensorflow:Restoring parameters from /media/scatter/scatterdisk/reply_matching_model/runs/debug_embedding/model.ckpt\n"
     ]
    },
    {
     "name": "stderr",
     "output_type": "stream",
     "text": [
      "100%|██████████| 16/16 [00:05<00:00,  3.08it/s]\n",
      "\u001b[33m[17:20:38][WARNING] [Step 97] Saving for best loss : 0.77369 -> 0.76944 \u001b[0m\n",
      "\u001b[33m[17:20:43][WARNING] | Val loss : 0.7694 | Val accuracy : 0.9007  \u001b[0m\n",
      "\u001b[33m[17:20:43][WARNING] =================================== Epoch 7 Start ! =================================== \u001b[0m\n",
      " 12%|█▎        | 2/16 [00:00<00:04,  3.06it/s]"
     ]
    },
    {
     "name": "stdout",
     "output_type": "stream",
     "text": [
      "INFO:tensorflow:Restoring parameters from /media/scatter/scatterdisk/reply_matching_model/runs/debug_embedding/model.ckpt\n"
     ]
    },
    {
     "name": "stderr",
     "output_type": "stream",
     "text": [
      "\n",
      "  0%|          | 0/16 [00:00<?, ?it/s]\u001b[A\n",
      "  6%|▋         | 1/16 [00:00<00:06,  2.50it/s]\u001b[A\n",
      " 12%|█▎        | 2/16 [00:00<00:05,  2.66it/s]\u001b[A\n",
      " 19%|█▉        | 3/16 [00:00<00:04,  3.23it/s]\u001b[A\n",
      " 25%|██▌       | 4/16 [00:01<00:04,  2.93it/s]\u001b[A\n",
      " 31%|███▏      | 5/16 [00:01<00:03,  3.02it/s]\u001b[A\n",
      " 38%|███▊      | 6/16 [00:01<00:03,  3.01it/s]\u001b[A\n",
      " 44%|████▍     | 7/16 [00:02<00:02,  3.09it/s]\u001b[A\n",
      " 50%|█████     | 8/16 [00:02<00:02,  3.26it/s]\u001b[A\n",
      " 56%|█████▋    | 9/16 [00:03<00:02,  2.98it/s]\u001b[A\n",
      " 62%|██████▎   | 10/16 [00:03<00:01,  3.03it/s]\u001b[A\n",
      " 69%|██████▉   | 11/16 [00:03<00:01,  2.95it/s]\u001b[A\n",
      " 75%|███████▌  | 12/16 [00:04<00:01,  2.95it/s]\u001b[A\n",
      " 81%|████████▏ | 13/16 [00:04<00:00,  3.01it/s]\u001b[A\n",
      " 88%|████████▊ | 14/16 [00:04<00:00,  3.07it/s]\u001b[A\n",
      " 94%|█████████▍| 15/16 [00:04<00:00,  3.18it/s]\u001b[A\n",
      "100%|██████████| 16/16 [00:04<00:00,  3.27it/s]\u001b[A\n",
      "\u001b[A\u001b[33m[17:20:53][WARNING] [Step 100] Saving for best loss : 0.76944 -> 0.69242 \u001b[0m\n",
      "\u001b[33m[17:20:58][WARNING] Epoch :  7 | Step :        3 | Train loss : 0.5699 | Train accuracy : 0.9124 | Val loss : 0.6924 | Val accuracy : 0.9102  \u001b[0m\n",
      "100%|██████████| 16/16 [00:17<00:00,  1.11s/it]\n",
      "\u001b[33m[17:21:00][WARNING] =================================== Epoch 7 Done ! =================================== \u001b[0m\n"
     ]
    },
    {
     "name": "stdout",
     "output_type": "stream",
     "text": [
      "INFO:tensorflow:Restoring parameters from /media/scatter/scatterdisk/reply_matching_model/runs/debug_embedding/model.ckpt\n"
     ]
    },
    {
     "name": "stderr",
     "output_type": "stream",
     "text": [
      "100%|██████████| 16/16 [00:04<00:00,  3.44it/s]\n",
      "\u001b[33m[17:21:10][WARNING] [Step 113] Saving for best loss : 0.69242 -> 0.52711 \u001b[0m\n",
      "\u001b[33m[17:21:14][WARNING] | Val loss : 0.5271 | Val accuracy : 0.9231  \u001b[0m\n",
      "\u001b[33m[17:21:14][WARNING] =================================== Epoch 8 Start ! =================================== \u001b[0m\n",
      " 38%|███▊      | 6/16 [00:01<00:02,  4.19it/s]"
     ]
    },
    {
     "name": "stdout",
     "output_type": "stream",
     "text": [
      "INFO:tensorflow:Restoring parameters from /media/scatter/scatterdisk/reply_matching_model/runs/debug_embedding/model.ckpt\n"
     ]
    },
    {
     "name": "stderr",
     "output_type": "stream",
     "text": [
      "\n",
      "  0%|          | 0/16 [00:00<?, ?it/s]\u001b[A\n",
      "  6%|▋         | 1/16 [00:00<00:07,  1.98it/s]\u001b[A\n",
      " 12%|█▎        | 2/16 [00:00<00:05,  2.47it/s]\u001b[A\n",
      " 19%|█▉        | 3/16 [00:01<00:05,  2.56it/s]\u001b[A\n",
      " 25%|██▌       | 4/16 [00:01<00:04,  2.45it/s]\u001b[A\n",
      " 31%|███▏      | 5/16 [00:01<00:04,  2.63it/s]\u001b[A\n",
      " 38%|███▊      | 6/16 [00:02<00:03,  2.74it/s]\u001b[A\n",
      " 44%|████▍     | 7/16 [00:02<00:03,  2.77it/s]\u001b[A\n",
      " 50%|█████     | 8/16 [00:02<00:02,  2.90it/s]\u001b[A\n",
      " 56%|█████▋    | 9/16 [00:03<00:02,  2.88it/s]\u001b[A\n",
      " 62%|██████▎   | 10/16 [00:03<00:02,  2.86it/s]\u001b[A\n",
      " 69%|██████▉   | 11/16 [00:03<00:01,  2.91it/s]\u001b[A\n",
      " 75%|███████▌  | 12/16 [00:03<00:01,  3.03it/s]\u001b[A\n",
      " 81%|████████▏ | 13/16 [00:04<00:01,  3.00it/s]\u001b[A\n",
      " 88%|████████▊ | 14/16 [00:04<00:00,  3.06it/s]\u001b[A\n",
      " 94%|█████████▍| 15/16 [00:04<00:00,  3.03it/s]\u001b[A\n",
      "100%|██████████| 16/16 [00:05<00:00,  3.12it/s]\u001b[A\n",
      "\u001b[A\u001b[33m[17:21:21][WARNING] Epoch :  8 | Step :        7 | Train loss : 0.6280 | Train accuracy : 0.9281 | Val loss : 0.5500 | Val accuracy : 0.9184  \u001b[0m\n",
      "100%|██████████| 16/16 [00:09<00:00,  1.77it/s]\n",
      "\u001b[33m[17:21:23][WARNING] =================================== Epoch 8 Done ! =================================== \u001b[0m\n"
     ]
    },
    {
     "name": "stdout",
     "output_type": "stream",
     "text": [
      "INFO:tensorflow:Restoring parameters from /media/scatter/scatterdisk/reply_matching_model/runs/debug_embedding/model.ckpt\n"
     ]
    },
    {
     "name": "stderr",
     "output_type": "stream",
     "text": [
      "100%|██████████| 16/16 [00:04<00:00,  3.29it/s]\n",
      "\u001b[33m[17:21:33][WARNING] [Step 129] Saving for best loss : 0.52711 -> 0.42831 \u001b[0m\n",
      "\u001b[33m[17:21:37][WARNING] | Val loss : 0.4283 | Val accuracy : 0.9323  \u001b[0m\n",
      "\u001b[33m[17:21:37][WARNING] =================================== Epoch 9 Start ! =================================== \u001b[0m\n",
      " 62%|██████▎   | 10/16 [00:02<00:01,  4.92it/s]"
     ]
    },
    {
     "name": "stdout",
     "output_type": "stream",
     "text": [
      "INFO:tensorflow:Restoring parameters from /media/scatter/scatterdisk/reply_matching_model/runs/debug_embedding/model.ckpt\n"
     ]
    },
    {
     "name": "stderr",
     "output_type": "stream",
     "text": [
      "\n",
      "  0%|          | 0/16 [00:00<?, ?it/s]\u001b[A\n",
      "  6%|▋         | 1/16 [00:00<00:06,  2.25it/s]\u001b[A\n",
      " 12%|█▎        | 2/16 [00:00<00:04,  3.43it/s]\u001b[A\n",
      " 19%|█▉        | 3/16 [00:00<00:03,  3.55it/s]\u001b[A\n",
      " 25%|██▌       | 4/16 [00:01<00:03,  3.46it/s]\u001b[A\n",
      " 31%|███▏      | 5/16 [00:01<00:03,  3.37it/s]\u001b[A\n",
      " 38%|███▊      | 6/16 [00:01<00:02,  3.57it/s]\u001b[A\n",
      " 44%|████▍     | 7/16 [00:02<00:02,  3.35it/s]\u001b[A\n",
      " 50%|█████     | 8/16 [00:02<00:02,  3.56it/s]\u001b[A\n",
      " 56%|█████▋    | 9/16 [00:02<00:02,  3.24it/s]\u001b[A\n",
      " 62%|██████▎   | 10/16 [00:03<00:01,  3.25it/s]\u001b[A\n",
      " 69%|██████▉   | 11/16 [00:03<00:01,  3.20it/s]\u001b[A\n",
      " 75%|███████▌  | 12/16 [00:03<00:01,  3.15it/s]\u001b[A\n",
      " 81%|████████▏ | 13/16 [00:04<00:00,  3.16it/s]\u001b[A\n",
      " 88%|████████▊ | 14/16 [00:04<00:00,  3.19it/s]\u001b[A\n",
      " 94%|█████████▍| 15/16 [00:04<00:00,  3.12it/s]\u001b[A\n",
      "100%|██████████| 16/16 [00:05<00:00,  3.09it/s]\u001b[A\n",
      "\u001b[A\u001b[33m[17:21:45][WARNING] Epoch :  9 | Step :       11 | Train loss : 0.5969 | Train accuracy : 0.9258 | Val loss : 0.4525 | Val accuracy : 0.9340  \u001b[0m\n",
      " 88%|████████▊ | 14/16 [00:08<00:01,  1.66it/s]\n"
     ]
    },
    {
     "ename": "KeyboardInterrupt",
     "evalue": "",
     "output_type": "error",
     "traceback": [
      "\u001b[0;31m---------------------------------------------------------------------------\u001b[0m",
      "\u001b[0;31mKeyboardInterrupt\u001b[0m                         Traceback (most recent call last)",
      "\u001b[0;32m<ipython-input-11-3435b262f1ae>\u001b[0m in \u001b[0;36m<module>\u001b[0;34m()\u001b[0m\n\u001b[0;32m----> 1\u001b[0;31m \u001b[0mtrainer\u001b[0m\u001b[0;34m.\u001b[0m\u001b[0mtrain\u001b[0m\u001b[0;34m(\u001b[0m\u001b[0;34m)\u001b[0m\u001b[0;34m\u001b[0m\u001b[0m\n\u001b[0m",
      "\u001b[0;32m~/korean-text-matching-tf/trainer.py\u001b[0m in \u001b[0;36mtrain\u001b[0;34m(self)\u001b[0m\n\u001b[1;32m    348\u001b[0m                 \u001b[0;31m#     continue\u001b[0m\u001b[0;34m\u001b[0m\u001b[0;34m\u001b[0m\u001b[0m\n\u001b[1;32m    349\u001b[0m \u001b[0;34m\u001b[0m\u001b[0m\n\u001b[0;32m--> 350\u001b[0;31m                 \u001b[0mloss\u001b[0m\u001b[0;34m,\u001b[0m \u001b[0mscore\u001b[0m \u001b[0;34m=\u001b[0m \u001b[0mself\u001b[0m\u001b[0;34m.\u001b[0m\u001b[0mtrain_step\u001b[0m\u001b[0;34m(\u001b[0m\u001b[0mtrain_model\u001b[0m\u001b[0;34m,\u001b[0m \u001b[0mtrain_sess\u001b[0m\u001b[0;34m)\u001b[0m\u001b[0;34m\u001b[0m\u001b[0m\n\u001b[0m\u001b[1;32m    351\u001b[0m \u001b[0;34m\u001b[0m\u001b[0m\n\u001b[1;32m    352\u001b[0m                 \u001b[0;31m# increment global step\u001b[0m\u001b[0;34m\u001b[0m\u001b[0;34m\u001b[0m\u001b[0m\n",
      "\u001b[0;32m~/korean-text-matching-tf/trainer.py\u001b[0m in \u001b[0;36mtrain_step\u001b[0;34m(self, model, sess)\u001b[0m\n\u001b[1;32m    307\u001b[0m                     }\n\u001b[1;32m    308\u001b[0m         _, loss, score = sess.run([model.train_step, model.loss, model.score],\n\u001b[0;32m--> 309\u001b[0;31m                                      feed_dict=feed_dict)\n\u001b[0m\u001b[1;32m    310\u001b[0m \u001b[0;34m\u001b[0m\u001b[0m\n\u001b[1;32m    311\u001b[0m         \u001b[0;32mreturn\u001b[0m \u001b[0mloss\u001b[0m\u001b[0;34m,\u001b[0m \u001b[0mscore\u001b[0m\u001b[0;34m\u001b[0m\u001b[0m\n",
      "\u001b[0;32m~/angryenv/lib/python3.5/site-packages/tensorflow/python/client/session.py\u001b[0m in \u001b[0;36mrun\u001b[0;34m(self, fetches, feed_dict, options, run_metadata)\u001b[0m\n\u001b[1;32m    898\u001b[0m     \u001b[0;32mtry\u001b[0m\u001b[0;34m:\u001b[0m\u001b[0;34m\u001b[0m\u001b[0m\n\u001b[1;32m    899\u001b[0m       result = self._run(None, fetches, feed_dict, options_ptr,\n\u001b[0;32m--> 900\u001b[0;31m                          run_metadata_ptr)\n\u001b[0m\u001b[1;32m    901\u001b[0m       \u001b[0;32mif\u001b[0m \u001b[0mrun_metadata\u001b[0m\u001b[0;34m:\u001b[0m\u001b[0;34m\u001b[0m\u001b[0m\n\u001b[1;32m    902\u001b[0m         \u001b[0mproto_data\u001b[0m \u001b[0;34m=\u001b[0m \u001b[0mtf_session\u001b[0m\u001b[0;34m.\u001b[0m\u001b[0mTF_GetBuffer\u001b[0m\u001b[0;34m(\u001b[0m\u001b[0mrun_metadata_ptr\u001b[0m\u001b[0;34m)\u001b[0m\u001b[0;34m\u001b[0m\u001b[0m\n",
      "\u001b[0;32m~/angryenv/lib/python3.5/site-packages/tensorflow/python/client/session.py\u001b[0m in \u001b[0;36m_run\u001b[0;34m(self, handle, fetches, feed_dict, options, run_metadata)\u001b[0m\n\u001b[1;32m   1133\u001b[0m     \u001b[0;32mif\u001b[0m \u001b[0mfinal_fetches\u001b[0m \u001b[0;32mor\u001b[0m \u001b[0mfinal_targets\u001b[0m \u001b[0;32mor\u001b[0m \u001b[0;34m(\u001b[0m\u001b[0mhandle\u001b[0m \u001b[0;32mand\u001b[0m \u001b[0mfeed_dict_tensor\u001b[0m\u001b[0;34m)\u001b[0m\u001b[0;34m:\u001b[0m\u001b[0;34m\u001b[0m\u001b[0m\n\u001b[1;32m   1134\u001b[0m       results = self._do_run(handle, final_targets, final_fetches,\n\u001b[0;32m-> 1135\u001b[0;31m                              feed_dict_tensor, options, run_metadata)\n\u001b[0m\u001b[1;32m   1136\u001b[0m     \u001b[0;32melse\u001b[0m\u001b[0;34m:\u001b[0m\u001b[0;34m\u001b[0m\u001b[0m\n\u001b[1;32m   1137\u001b[0m       \u001b[0mresults\u001b[0m \u001b[0;34m=\u001b[0m \u001b[0;34m[\u001b[0m\u001b[0;34m]\u001b[0m\u001b[0;34m\u001b[0m\u001b[0m\n",
      "\u001b[0;32m~/angryenv/lib/python3.5/site-packages/tensorflow/python/client/session.py\u001b[0m in \u001b[0;36m_do_run\u001b[0;34m(self, handle, target_list, fetch_list, feed_dict, options, run_metadata)\u001b[0m\n\u001b[1;32m   1314\u001b[0m     \u001b[0;32mif\u001b[0m \u001b[0mhandle\u001b[0m \u001b[0;32mis\u001b[0m \u001b[0;32mNone\u001b[0m\u001b[0;34m:\u001b[0m\u001b[0;34m\u001b[0m\u001b[0m\n\u001b[1;32m   1315\u001b[0m       return self._do_call(_run_fn, feeds, fetches, targets, options,\n\u001b[0;32m-> 1316\u001b[0;31m                            run_metadata)\n\u001b[0m\u001b[1;32m   1317\u001b[0m     \u001b[0;32melse\u001b[0m\u001b[0;34m:\u001b[0m\u001b[0;34m\u001b[0m\u001b[0m\n\u001b[1;32m   1318\u001b[0m       \u001b[0;32mreturn\u001b[0m \u001b[0mself\u001b[0m\u001b[0;34m.\u001b[0m\u001b[0m_do_call\u001b[0m\u001b[0;34m(\u001b[0m\u001b[0m_prun_fn\u001b[0m\u001b[0;34m,\u001b[0m \u001b[0mhandle\u001b[0m\u001b[0;34m,\u001b[0m \u001b[0mfeeds\u001b[0m\u001b[0;34m,\u001b[0m \u001b[0mfetches\u001b[0m\u001b[0;34m)\u001b[0m\u001b[0;34m\u001b[0m\u001b[0m\n",
      "\u001b[0;32m~/angryenv/lib/python3.5/site-packages/tensorflow/python/client/session.py\u001b[0m in \u001b[0;36m_do_call\u001b[0;34m(self, fn, *args)\u001b[0m\n\u001b[1;32m   1320\u001b[0m   \u001b[0;32mdef\u001b[0m \u001b[0m_do_call\u001b[0m\u001b[0;34m(\u001b[0m\u001b[0mself\u001b[0m\u001b[0;34m,\u001b[0m \u001b[0mfn\u001b[0m\u001b[0;34m,\u001b[0m \u001b[0;34m*\u001b[0m\u001b[0margs\u001b[0m\u001b[0;34m)\u001b[0m\u001b[0;34m:\u001b[0m\u001b[0;34m\u001b[0m\u001b[0m\n\u001b[1;32m   1321\u001b[0m     \u001b[0;32mtry\u001b[0m\u001b[0;34m:\u001b[0m\u001b[0;34m\u001b[0m\u001b[0m\n\u001b[0;32m-> 1322\u001b[0;31m       \u001b[0;32mreturn\u001b[0m \u001b[0mfn\u001b[0m\u001b[0;34m(\u001b[0m\u001b[0;34m*\u001b[0m\u001b[0margs\u001b[0m\u001b[0;34m)\u001b[0m\u001b[0;34m\u001b[0m\u001b[0m\n\u001b[0m\u001b[1;32m   1323\u001b[0m     \u001b[0;32mexcept\u001b[0m \u001b[0merrors\u001b[0m\u001b[0;34m.\u001b[0m\u001b[0mOpError\u001b[0m \u001b[0;32mas\u001b[0m \u001b[0me\u001b[0m\u001b[0;34m:\u001b[0m\u001b[0;34m\u001b[0m\u001b[0m\n\u001b[1;32m   1324\u001b[0m       \u001b[0mmessage\u001b[0m \u001b[0;34m=\u001b[0m \u001b[0mcompat\u001b[0m\u001b[0;34m.\u001b[0m\u001b[0mas_text\u001b[0m\u001b[0;34m(\u001b[0m\u001b[0me\u001b[0m\u001b[0;34m.\u001b[0m\u001b[0mmessage\u001b[0m\u001b[0;34m)\u001b[0m\u001b[0;34m\u001b[0m\u001b[0m\n",
      "\u001b[0;32m~/angryenv/lib/python3.5/site-packages/tensorflow/python/client/session.py\u001b[0m in \u001b[0;36m_run_fn\u001b[0;34m(feed_dict, fetch_list, target_list, options, run_metadata)\u001b[0m\n\u001b[1;32m   1305\u001b[0m       \u001b[0mself\u001b[0m\u001b[0;34m.\u001b[0m\u001b[0m_extend_graph\u001b[0m\u001b[0;34m(\u001b[0m\u001b[0;34m)\u001b[0m\u001b[0;34m\u001b[0m\u001b[0m\n\u001b[1;32m   1306\u001b[0m       return self._call_tf_sessionrun(\n\u001b[0;32m-> 1307\u001b[0;31m           options, feed_dict, fetch_list, target_list, run_metadata)\n\u001b[0m\u001b[1;32m   1308\u001b[0m \u001b[0;34m\u001b[0m\u001b[0m\n\u001b[1;32m   1309\u001b[0m     \u001b[0;32mdef\u001b[0m \u001b[0m_prun_fn\u001b[0m\u001b[0;34m(\u001b[0m\u001b[0mhandle\u001b[0m\u001b[0;34m,\u001b[0m \u001b[0mfeed_dict\u001b[0m\u001b[0;34m,\u001b[0m \u001b[0mfetch_list\u001b[0m\u001b[0;34m)\u001b[0m\u001b[0;34m:\u001b[0m\u001b[0;34m\u001b[0m\u001b[0m\n",
      "\u001b[0;32m~/angryenv/lib/python3.5/site-packages/tensorflow/python/client/session.py\u001b[0m in \u001b[0;36m_call_tf_sessionrun\u001b[0;34m(self, options, feed_dict, fetch_list, target_list, run_metadata)\u001b[0m\n\u001b[1;32m   1407\u001b[0m       return tf_session.TF_SessionRun_wrapper(\n\u001b[1;32m   1408\u001b[0m           \u001b[0mself\u001b[0m\u001b[0;34m.\u001b[0m\u001b[0m_session\u001b[0m\u001b[0;34m,\u001b[0m \u001b[0moptions\u001b[0m\u001b[0;34m,\u001b[0m \u001b[0mfeed_dict\u001b[0m\u001b[0;34m,\u001b[0m \u001b[0mfetch_list\u001b[0m\u001b[0;34m,\u001b[0m \u001b[0mtarget_list\u001b[0m\u001b[0;34m,\u001b[0m\u001b[0;34m\u001b[0m\u001b[0m\n\u001b[0;32m-> 1409\u001b[0;31m           run_metadata)\n\u001b[0m\u001b[1;32m   1410\u001b[0m     \u001b[0;32melse\u001b[0m\u001b[0;34m:\u001b[0m\u001b[0;34m\u001b[0m\u001b[0m\n\u001b[1;32m   1411\u001b[0m       \u001b[0;32mwith\u001b[0m \u001b[0merrors\u001b[0m\u001b[0;34m.\u001b[0m\u001b[0mraise_exception_on_not_ok_status\u001b[0m\u001b[0;34m(\u001b[0m\u001b[0;34m)\u001b[0m \u001b[0;32mas\u001b[0m \u001b[0mstatus\u001b[0m\u001b[0;34m:\u001b[0m\u001b[0;34m\u001b[0m\u001b[0m\n",
      "\u001b[0;31mKeyboardInterrupt\u001b[0m: "
     ]
    }
   ],
   "source": [
    "trainer.train()"
   ]
  },
  {
   "cell_type": "code",
   "execution_count": null,
   "metadata": {},
   "outputs": [],
   "source": []
  }
 ],
 "metadata": {
  "kernelspec": {
   "display_name": "angryenv",
   "language": "python",
   "name": "angryenv"
  },
  "language_info": {
   "codemirror_mode": {
    "name": "ipython",
    "version": 3
   },
   "file_extension": ".py",
   "mimetype": "text/x-python",
   "name": "python",
   "nbconvert_exporter": "python",
   "pygments_lexer": "ipython3",
   "version": "3.5.2"
  }
 },
 "nbformat": 4,
 "nbformat_minor": 2
}
