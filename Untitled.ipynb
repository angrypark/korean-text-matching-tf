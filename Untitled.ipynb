{
 "cells": [
  {
   "cell_type": "code",
   "execution_count": 1,
   "metadata": {},
   "outputs": [],
   "source": [
    "import tensorflow as tf\n",
    "import numpy as np\n",
    "import argparse\n",
    "from datetime import datetime\n",
    "import os\n",
    "\n",
    "from data_loader import DataGenerator\n",
    "\n",
    "from trainer import MatchingModelTrainer\n",
    "from preprocessor import DynamicPreprocessor\n",
    "from utils.dirs import create_dirs\n",
    "from utils.logger import SummaryWriter\n",
    "from utils.config import load_config, save_config\n",
    "from models.base import get_model\n",
    "from utils.utils import JamoProcessor"
   ]
  },
  {
   "cell_type": "code",
   "execution_count": 2,
   "metadata": {},
   "outputs": [],
   "source": [
    "os.environ[\"CUDA_VISIBLE_DEVICES\"]=\"0\""
   ]
  },
  {
   "cell_type": "code",
   "execution_count": 3,
   "metadata": {},
   "outputs": [],
   "source": [
    "class Config:\n",
    "    def __init__(self):\n",
    "        self.mode = \"train\"\n",
    "        self.name = \"debug_embedding\"\n",
    "        self.config = \"\"\n",
    "        self.train_dir = \"/media/scatter/scatterdisk/reply_matching_model/debug/\"\n",
    "        self.val_dir = \"/media/scatter/scatterdisk/reply_matching_model/debug/sol.small.txt\"\n",
    "        self.pretrained_embed_dir = \"/media/scatter/scatterdisk/pretrained_embedding/fasttext.sent_piece_100K.256D\"\n",
    "        self.checkpoint_dir = \"/media/scatter/scatterdisk/reply_matching_model/runs/\"\n",
    "        self.model = \"DualEncoderBiLSTM\"\n",
    "        self.sent_piece_model = \"/media/scatter/scatterdisk/tokenizer/sent_piece.100K.model\"\n",
    "        self.soynlp_scores = \"/media/scatter/scatterdisk/tokenizer/soynlp_scores.sol.100M.txt\"\n",
    "        self.normalizer = \"DummyNormalizer\"\n",
    "        self.tokenizer = \"SentencePieceTokenizer\"\n",
    "        self.vocab_size = 90000\n",
    "        self.vocab_list = \"/media/scatter/scatterdisk/pretrained_embedding/vocab_list.sent_piece_100K.txt\"\n",
    "        \n",
    "        self.embed_dim = 256\n",
    "        self.learning_rate = 1e-3\n",
    "        self.min_length = 1\n",
    "        self.max_length = 20\n",
    "        self.dropout_keep_prob = 0.9\n",
    "        \n",
    "        self.lstm_dim = 1024\n",
    "        self.tcn_num_channels = 3\n",
    "        self.tcn_kernel_size = 2\n",
    "        \n",
    "        self.batch_size = 64\n",
    "        self.num_epochs = 300\n",
    "        self.evaluate_every = 20\n",
    "        self.save_every = 100\n",
    "        \n",
    "        self.max_to_keep = 1\n",
    "        self.shuffle = True\n",
    "        \n",
    "        self.negative_sampling = \"random\"\n",
    "        self.num_negative_samples = 4\n",
    "\n",
    "config = Config()"
   ]
  },
  {
   "cell_type": "code",
   "execution_count": 5,
   "metadata": {},
   "outputs": [],
   "source": [
    "config = create_dirs(config)"
   ]
  },
  {
   "cell_type": "code",
   "execution_count": 6,
   "metadata": {},
   "outputs": [],
   "source": [
    "device_config = tf.ConfigProto()\n",
    "device_config.gpu_options.allow_growth = True\n",
    "sess = tf.Session(config=device_config)\n",
    "preprocessor = DynamicPreprocessor(config)\n",
    "data = DataGenerator(preprocessor, config)\n",
    "data.train_size = 1000"
   ]
  },
  {
   "cell_type": "code",
   "execution_count": 7,
   "metadata": {},
   "outputs": [],
   "source": [
    "summary_writer = SummaryWriter(sess, config)"
   ]
  },
  {
   "cell_type": "code",
   "execution_count": 8,
   "metadata": {},
   "outputs": [],
   "source": [
    "trainer = MatchingModelTrainer(sess, preprocessor, data, config, summary_writer)"
   ]
  },
  {
   "cell_type": "code",
   "execution_count": 9,
   "metadata": {},
   "outputs": [
    {
     "name": "stderr",
     "output_type": "stream",
     "text": [
      "\u001b[32m[21:22:51][INFO] Building train graph... \u001b[0m\n"
     ]
    },
    {
     "name": "stdout",
     "output_type": "stream",
     "text": [
      "Pre-trained embedding loaded. Number of OOV : 5272 / 90000\n",
      "WARNING:tensorflow:From /home/angrypark/angryenv/lib/python3.5/site-packages/tensorflow/python/ops/rnn.py:417: calling reverse_sequence (from tensorflow.python.ops.array_ops) with seq_dim is deprecated and will be removed in a future version.\n",
      "Instructions for updating:\n",
      "seq_dim is deprecated, use seq_axis instead\n",
      "WARNING:tensorflow:From /home/angrypark/angryenv/lib/python3.5/site-packages/tensorflow/python/util/deprecation.py:432: calling reverse_sequence (from tensorflow.python.ops.array_ops) with batch_dim is deprecated and will be removed in a future version.\n",
      "Instructions for updating:\n",
      "batch_dim is deprecated, use batch_axis instead\n"
     ]
    },
    {
     "name": "stderr",
     "output_type": "stream",
     "text": [
      "/home/angrypark/angryenv/lib/python3.5/site-packages/tensorflow/python/ops/gradients_impl.py:100: UserWarning: Converting sparse IndexedSlices to a dense Tensor of unknown shape. This may consume a large amount of memory.\n",
      "  \"Converting sparse IndexedSlices to a dense Tensor of unknown shape. \"\n",
      "\u001b[32m[21:22:59][INFO] Loading checkpoint from /media/scatter/scatterdisk/reply_matching_model/runs/debug_embedding/debug_embedding/ \u001b[0m\n",
      "\u001b[31m[21:22:59][ERROR] No checkpoint found in /media/scatter/scatterdisk/reply_matching_model/runs/debug_embedding/debug_embedding/ \u001b[0m\n",
      "\u001b[32m[21:22:59][INFO] Building val graph... \u001b[0m\n"
     ]
    },
    {
     "name": "stdout",
     "output_type": "stream",
     "text": [
      "Pre-trained embedding loaded. Number of OOV : 5272 / 90000\n"
     ]
    },
    {
     "name": "stderr",
     "output_type": "stream",
     "text": [
      "\u001b[33m[21:23:06][WARNING] =================================== Epoch 1 Start ! =================================== \u001b[0m\n",
      "100%|██████████| 16/16 [00:04<00:00,  3.30it/s]\n",
      "\u001b[33m[21:23:11][WARNING] =================================== Epoch 1 Done ! =================================== \u001b[0m\n"
     ]
    },
    {
     "name": "stdout",
     "output_type": "stream",
     "text": [
      "INFO:tensorflow:Restoring parameters from /media/scatter/scatterdisk/reply_matching_model/runs/debug_embedding/debug_embedding/model.ckpt\n"
     ]
    },
    {
     "name": "stderr",
     "output_type": "stream",
     "text": [
      "100%|██████████| 16/16 [00:04<00:00,  3.63it/s]\n",
      "\u001b[33m[21:23:17][WARNING] | Val loss : 16.6982 | Val accuracy : 0.7540  \u001b[0m\n",
      "\u001b[33m[21:23:17][WARNING] =================================== Epoch 2 Start ! =================================== \u001b[0m\n",
      " 12%|█▎        | 2/16 [00:00<00:03,  3.65it/s]"
     ]
    },
    {
     "name": "stdout",
     "output_type": "stream",
     "text": [
      "INFO:tensorflow:Restoring parameters from /media/scatter/scatterdisk/reply_matching_model/runs/debug_embedding/debug_embedding/model.ckpt\n"
     ]
    },
    {
     "name": "stderr",
     "output_type": "stream",
     "text": [
      "\n",
      "  0%|          | 0/16 [00:00<?, ?it/s]\u001b[A\n",
      "  6%|▋         | 1/16 [00:00<00:05,  2.77it/s]\u001b[A\n",
      " 12%|█▎        | 2/16 [00:00<00:03,  3.62it/s]\u001b[A\n",
      " 19%|█▉        | 3/16 [00:00<00:03,  4.06it/s]\u001b[A\n",
      " 25%|██▌       | 4/16 [00:01<00:03,  3.96it/s]\u001b[A\n",
      " 31%|███▏      | 5/16 [00:01<00:02,  4.03it/s]\u001b[A\n",
      " 38%|███▊      | 6/16 [00:01<00:02,  3.98it/s]\u001b[A\n",
      " 44%|████▍     | 7/16 [00:01<00:02,  3.96it/s]\u001b[A\n",
      " 50%|█████     | 8/16 [00:02<00:02,  3.83it/s]\u001b[A\n",
      " 56%|█████▋    | 9/16 [00:02<00:01,  3.61it/s]\u001b[A\n",
      " 62%|██████▎   | 10/16 [00:02<00:01,  3.60it/s]\u001b[A\n",
      " 69%|██████▉   | 11/16 [00:03<00:01,  3.59it/s]\u001b[A\n",
      " 75%|███████▌  | 12/16 [00:03<00:01,  3.66it/s]\u001b[A\n",
      " 81%|████████▏ | 13/16 [00:03<00:00,  3.67it/s]\u001b[A\n",
      " 88%|████████▊ | 14/16 [00:03<00:00,  3.69it/s]\u001b[A\n",
      " 94%|█████████▍| 15/16 [00:04<00:00,  3.70it/s]\u001b[A\n",
      "100%|██████████| 16/16 [00:04<00:00,  3.75it/s]\u001b[A\n",
      "\u001b[A\u001b[33m[21:23:23][WARNING] Epoch :  2 | Step :        3 | Train loss : 18.4838 | Train accuracy : 0.7614 | Val loss : 16.9475 | Val accuracy : 0.7397  \u001b[0m\n",
      "100%|██████████| 16/16 [00:07<00:00,  2.01it/s]\n",
      "\u001b[33m[21:23:25][WARNING] =================================== Epoch 2 Done ! =================================== \u001b[0m\n"
     ]
    },
    {
     "name": "stdout",
     "output_type": "stream",
     "text": [
      "INFO:tensorflow:Restoring parameters from /media/scatter/scatterdisk/reply_matching_model/runs/debug_embedding/debug_embedding/model.ckpt\n"
     ]
    },
    {
     "name": "stderr",
     "output_type": "stream",
     "text": [
      "100%|██████████| 16/16 [00:03<00:00,  4.25it/s]\n",
      "\u001b[33m[21:23:35][WARNING] | Val loss : 8.0553 | Val accuracy : 0.8115  \u001b[0m\n",
      "\u001b[33m[21:23:35][WARNING] =================================== Epoch 3 Start ! =================================== \u001b[0m\n",
      " 38%|███▊      | 6/16 [00:01<00:02,  4.76it/s]"
     ]
    },
    {
     "name": "stdout",
     "output_type": "stream",
     "text": [
      "INFO:tensorflow:Restoring parameters from /media/scatter/scatterdisk/reply_matching_model/runs/debug_embedding/debug_embedding/model.ckpt\n"
     ]
    },
    {
     "name": "stderr",
     "output_type": "stream",
     "text": [
      "\n",
      "  0%|          | 0/16 [00:00<?, ?it/s]\u001b[A\n",
      "  6%|▋         | 1/16 [00:00<00:05,  2.65it/s]\u001b[A\n",
      " 12%|█▎        | 2/16 [00:00<00:04,  3.42it/s]\u001b[A\n",
      " 19%|█▉        | 3/16 [00:00<00:03,  3.56it/s]\u001b[A\n",
      " 25%|██▌       | 4/16 [00:01<00:03,  3.68it/s]\u001b[A\n",
      " 31%|███▏      | 5/16 [00:01<00:03,  3.60it/s]\u001b[A\n",
      " 38%|███▊      | 6/16 [00:01<00:02,  3.75it/s]\u001b[A\n",
      " 44%|████▍     | 7/16 [00:01<00:02,  3.69it/s]\u001b[A\n",
      " 50%|█████     | 8/16 [00:02<00:02,  3.76it/s]\u001b[A\n",
      " 56%|█████▋    | 9/16 [00:02<00:01,  3.67it/s]\u001b[A\n",
      " 62%|██████▎   | 10/16 [00:02<00:01,  3.76it/s]\u001b[A\n",
      " 69%|██████▉   | 11/16 [00:02<00:01,  3.71it/s]\u001b[A\n",
      " 75%|███████▌  | 12/16 [00:03<00:01,  3.69it/s]\u001b[A\n",
      " 81%|████████▏ | 13/16 [00:03<00:00,  3.72it/s]\u001b[A\n",
      " 88%|████████▊ | 14/16 [00:03<00:00,  3.69it/s]\u001b[A\n",
      " 94%|█████████▍| 15/16 [00:04<00:00,  3.69it/s]\u001b[A\n",
      "100%|██████████| 16/16 [00:04<00:00,  3.70it/s]\u001b[A\n",
      "\u001b[A\u001b[33m[21:23:41][WARNING] Epoch :  3 | Step :        7 | Train loss : 8.1543 | Train accuracy : 0.8139 | Val loss : 8.8188 | Val accuracy : 0.8228  \u001b[0m\n",
      "100%|██████████| 16/16 [00:07<00:00,  2.02it/s]\n",
      "\u001b[33m[21:23:43][WARNING] =================================== Epoch 3 Done ! =================================== \u001b[0m\n"
     ]
    },
    {
     "name": "stdout",
     "output_type": "stream",
     "text": [
      "INFO:tensorflow:Restoring parameters from /media/scatter/scatterdisk/reply_matching_model/runs/debug_embedding/debug_embedding/model.ckpt\n"
     ]
    },
    {
     "name": "stderr",
     "output_type": "stream",
     "text": [
      "100%|██████████| 16/16 [00:04<00:00,  3.78it/s]\n",
      "\u001b[33m[21:23:53][WARNING] | Val loss : 4.0554 | Val accuracy : 0.8636  \u001b[0m\n",
      "\u001b[33m[21:23:53][WARNING] =================================== Epoch 4 Start ! =================================== \u001b[0m\n",
      " 62%|██████▎   | 10/16 [00:01<00:01,  5.00it/s]"
     ]
    },
    {
     "name": "stdout",
     "output_type": "stream",
     "text": [
      "INFO:tensorflow:Restoring parameters from /media/scatter/scatterdisk/reply_matching_model/runs/debug_embedding/debug_embedding/model.ckpt\n"
     ]
    },
    {
     "name": "stderr",
     "output_type": "stream",
     "text": [
      "\n",
      "  0%|          | 0/16 [00:00<?, ?it/s]\u001b[A\n",
      "  6%|▋         | 1/16 [00:00<00:05,  2.69it/s]\u001b[A\n",
      " 12%|█▎        | 2/16 [00:00<00:04,  3.14it/s]\u001b[A\n",
      " 19%|█▉        | 3/16 [00:00<00:03,  3.38it/s]\u001b[A\n",
      " 25%|██▌       | 4/16 [00:01<00:03,  3.54it/s]\u001b[A\n",
      " 31%|███▏      | 5/16 [00:01<00:03,  3.64it/s]\u001b[A\n",
      " 38%|███▊      | 6/16 [00:01<00:02,  3.74it/s]\u001b[A\n",
      " 44%|████▍     | 7/16 [00:01<00:02,  3.95it/s]\u001b[A\n",
      " 50%|█████     | 8/16 [00:01<00:01,  4.09it/s]\u001b[A\n",
      " 56%|█████▋    | 9/16 [00:02<00:01,  3.88it/s]\u001b[A\n",
      " 62%|██████▎   | 10/16 [00:02<00:01,  3.96it/s]\u001b[A\n",
      " 69%|██████▉   | 11/16 [00:02<00:01,  4.02it/s]\u001b[A\n",
      " 75%|███████▌  | 12/16 [00:03<00:01,  3.96it/s]\u001b[A\n",
      " 81%|████████▏ | 13/16 [00:03<00:00,  3.96it/s]\u001b[A\n",
      " 88%|████████▊ | 14/16 [00:03<00:00,  3.96it/s]\u001b[A\n",
      " 94%|█████████▍| 15/16 [00:03<00:00,  3.94it/s]\u001b[A\n",
      "100%|██████████| 16/16 [00:04<00:00,  3.96it/s]\u001b[A\n",
      "\u001b[A\u001b[33m[21:24:00][WARNING] Epoch :  4 | Step :       11 | Train loss : 4.9192 | Train accuracy : 0.8523 | Val loss : 4.1651 | Val accuracy : 0.8577  \u001b[0m\n",
      "100%|██████████| 16/16 [00:07<00:00,  2.10it/s]\n",
      "\u001b[33m[21:24:01][WARNING] =================================== Epoch 4 Done ! =================================== \u001b[0m\n"
     ]
    },
    {
     "name": "stdout",
     "output_type": "stream",
     "text": [
      "INFO:tensorflow:Restoring parameters from /media/scatter/scatterdisk/reply_matching_model/runs/debug_embedding/debug_embedding/model.ckpt\n"
     ]
    },
    {
     "name": "stderr",
     "output_type": "stream",
     "text": [
      "100%|██████████| 16/16 [00:04<00:00,  3.85it/s]\n",
      "\u001b[33m[21:24:11][WARNING] | Val loss : 2.8522 | Val accuracy : 0.8850  \u001b[0m\n",
      "\u001b[33m[21:24:11][WARNING] =================================== Epoch 5 Start ! =================================== \u001b[0m\n",
      " 88%|████████▊ | 14/16 [00:02<00:00,  5.17it/s]"
     ]
    },
    {
     "name": "stdout",
     "output_type": "stream",
     "text": [
      "INFO:tensorflow:Restoring parameters from /media/scatter/scatterdisk/reply_matching_model/runs/debug_embedding/debug_embedding/model.ckpt\n"
     ]
    },
    {
     "name": "stderr",
     "output_type": "stream",
     "text": [
      "\n",
      "  0%|          | 0/16 [00:00<?, ?it/s]\u001b[A\n",
      "  6%|▋         | 1/16 [00:00<00:04,  3.43it/s]\u001b[A\n",
      " 12%|█▎        | 2/16 [00:00<00:04,  3.47it/s]\u001b[A\n",
      " 19%|█▉        | 3/16 [00:00<00:03,  3.65it/s]\u001b[A\n",
      " 25%|██▌       | 4/16 [00:00<00:02,  4.01it/s]\u001b[A\n",
      " 31%|███▏      | 5/16 [00:01<00:02,  4.10it/s]\u001b[A\n",
      " 38%|███▊      | 6/16 [00:01<00:02,  3.92it/s]\u001b[A\n",
      " 44%|████▍     | 7/16 [00:01<00:02,  3.99it/s]\u001b[A\n",
      " 50%|█████     | 8/16 [00:01<00:01,  4.05it/s]\u001b[A\n",
      " 56%|█████▋    | 9/16 [00:02<00:01,  3.85it/s]\u001b[A\n",
      " 62%|██████▎   | 10/16 [00:02<00:01,  3.83it/s]\u001b[A\n",
      " 69%|██████▉   | 11/16 [00:02<00:01,  3.89it/s]\u001b[A\n",
      " 75%|███████▌  | 12/16 [00:02<00:00,  4.00it/s]\u001b[A\n",
      " 81%|████████▏ | 13/16 [00:03<00:00,  4.19it/s]\u001b[A\n",
      " 88%|████████▊ | 14/16 [00:03<00:00,  4.14it/s]\u001b[A\n",
      " 94%|█████████▍| 15/16 [00:03<00:00,  4.10it/s]\u001b[A\n",
      "100%|██████████| 16/16 [00:03<00:00,  4.12it/s]\u001b[A\n",
      "\u001b[A\u001b[33m[21:24:18][WARNING] Epoch :  5 | Step :       15 | Train loss : 2.6487 | Train accuracy : 0.8696 | Val loss : 2.7959 | Val accuracy : 0.8820  \u001b[0m\n",
      "100%|██████████| 16/16 [00:07<00:00,  2.19it/s]\n",
      "\u001b[33m[21:24:18][WARNING] =================================== Epoch 5 Done ! =================================== \u001b[0m\n"
     ]
    },
    {
     "name": "stdout",
     "output_type": "stream",
     "text": [
      "INFO:tensorflow:Restoring parameters from /media/scatter/scatterdisk/reply_matching_model/runs/debug_embedding/debug_embedding/model.ckpt\n"
     ]
    },
    {
     "name": "stderr",
     "output_type": "stream",
     "text": [
      "100%|██████████| 16/16 [00:04<00:00,  3.80it/s]\n",
      "\u001b[33m[21:24:28][WARNING] | Val loss : 2.3052 | Val accuracy : 0.8930  \u001b[0m\n",
      "\u001b[33m[21:24:28][WARNING] =================================== Epoch 6 Start ! =================================== \u001b[0m\n",
      "100%|██████████| 16/16 [00:03<00:00,  5.29it/s]\n",
      "\u001b[33m[21:24:31][WARNING] =================================== Epoch 6 Done ! =================================== \u001b[0m\n"
     ]
    },
    {
     "name": "stdout",
     "output_type": "stream",
     "text": [
      "INFO:tensorflow:Restoring parameters from /media/scatter/scatterdisk/reply_matching_model/runs/debug_embedding/debug_embedding/model.ckpt\n"
     ]
    },
    {
     "name": "stderr",
     "output_type": "stream",
     "text": [
      "100%|██████████| 16/16 [00:04<00:00,  3.74it/s]\n",
      "\u001b[33m[21:24:41][WARNING] | Val loss : 1.5774 | Val accuracy : 0.9038  \u001b[0m\n",
      "\u001b[33m[21:24:41][WARNING] =================================== Epoch 7 Start ! =================================== \u001b[0m\n",
      " 12%|█▎        | 2/16 [00:00<00:03,  4.11it/s]"
     ]
    },
    {
     "name": "stdout",
     "output_type": "stream",
     "text": [
      "INFO:tensorflow:Restoring parameters from /media/scatter/scatterdisk/reply_matching_model/runs/debug_embedding/debug_embedding/model.ckpt\n"
     ]
    },
    {
     "name": "stderr",
     "output_type": "stream",
     "text": [
      "\n",
      "  0%|          | 0/16 [00:00<?, ?it/s]\u001b[A\n",
      "  6%|▋         | 1/16 [00:00<00:06,  2.32it/s]\u001b[A\n",
      " 12%|█▎        | 2/16 [00:00<00:04,  2.97it/s]\u001b[A\n",
      " 19%|█▉        | 3/16 [00:00<00:04,  3.16it/s]\u001b[A\n",
      " 25%|██▌       | 4/16 [00:01<00:03,  3.19it/s]\u001b[A\n",
      " 31%|███▏      | 5/16 [00:01<00:03,  3.29it/s]\u001b[A\n",
      " 38%|███▊      | 6/16 [00:01<00:02,  3.37it/s]\u001b[A\n",
      " 44%|████▍     | 7/16 [00:02<00:02,  3.49it/s]\u001b[A\n",
      " 50%|█████     | 8/16 [00:02<00:02,  3.53it/s]\u001b[A\n",
      " 56%|█████▋    | 9/16 [00:02<00:02,  3.46it/s]\u001b[A\n",
      " 62%|██████▎   | 10/16 [00:02<00:01,  3.52it/s]\u001b[A\n",
      " 69%|██████▉   | 11/16 [00:03<00:01,  3.52it/s]\u001b[A\n",
      " 75%|███████▌  | 12/16 [00:03<00:01,  3.59it/s]\u001b[A\n",
      " 81%|████████▏ | 13/16 [00:03<00:00,  3.61it/s]\u001b[A\n",
      " 88%|████████▊ | 14/16 [00:03<00:00,  3.58it/s]\u001b[A\n",
      " 94%|█████████▍| 15/16 [00:04<00:00,  3.62it/s]\u001b[A\n",
      "100%|██████████| 16/16 [00:04<00:00,  3.65it/s]\u001b[A\n",
      "\u001b[A\u001b[33m[21:24:51][WARNING] Epoch :  7 | Step :        3 | Train loss : 1.4605 | Train accuracy : 0.9046 | Val loss : 1.5411 | Val accuracy : 0.8971  \u001b[0m\n",
      "100%|██████████| 16/16 [00:13<00:00,  1.22it/s]\n",
      "\u001b[33m[21:24:54][WARNING] =================================== Epoch 7 Done ! =================================== \u001b[0m\n"
     ]
    },
    {
     "name": "stdout",
     "output_type": "stream",
     "text": [
      "INFO:tensorflow:Restoring parameters from /media/scatter/scatterdisk/reply_matching_model/runs/debug_embedding/debug_embedding/model.ckpt\n"
     ]
    },
    {
     "name": "stderr",
     "output_type": "stream",
     "text": [
      "100%|██████████| 16/16 [00:04<00:00,  3.97it/s]\n",
      "\u001b[33m[21:25:04][WARNING] | Val loss : 1.0279 | Val accuracy : 0.9189  \u001b[0m\n",
      "\u001b[33m[21:25:04][WARNING] =================================== Epoch 8 Start ! =================================== \u001b[0m\n",
      " 38%|███▊      | 6/16 [00:01<00:02,  4.63it/s]"
     ]
    },
    {
     "name": "stdout",
     "output_type": "stream",
     "text": [
      "INFO:tensorflow:Restoring parameters from /media/scatter/scatterdisk/reply_matching_model/runs/debug_embedding/debug_embedding/model.ckpt\n"
     ]
    },
    {
     "name": "stderr",
     "output_type": "stream",
     "text": [
      "\n",
      "  0%|          | 0/16 [00:00<?, ?it/s]\u001b[A\n",
      "  6%|▋         | 1/16 [00:00<00:05,  2.73it/s]\u001b[A\n",
      " 12%|█▎        | 2/16 [00:00<00:03,  3.81it/s]\u001b[A\n",
      " 19%|█▉        | 3/16 [00:00<00:03,  4.01it/s]\u001b[A\n",
      " 25%|██▌       | 4/16 [00:01<00:03,  3.96it/s]\u001b[A\n",
      " 31%|███▏      | 5/16 [00:01<00:02,  3.96it/s]\u001b[A\n",
      " 38%|███▊      | 6/16 [00:01<00:02,  4.06it/s]\u001b[A\n",
      " 44%|████▍     | 7/16 [00:01<00:02,  4.03it/s]\u001b[A\n",
      " 50%|█████     | 8/16 [00:01<00:01,  4.08it/s]\u001b[A\n",
      " 56%|█████▋    | 9/16 [00:02<00:01,  3.84it/s]\u001b[A\n",
      " 62%|██████▎   | 10/16 [00:02<00:01,  3.85it/s]\u001b[A\n",
      " 69%|██████▉   | 11/16 [00:02<00:01,  3.94it/s]\u001b[A\n",
      " 75%|███████▌  | 12/16 [00:03<00:01,  3.95it/s]\u001b[A\n",
      " 81%|████████▏ | 13/16 [00:03<00:00,  4.02it/s]\u001b[A\n",
      " 88%|████████▊ | 14/16 [00:03<00:00,  4.08it/s]\u001b[A\n",
      " 94%|█████████▍| 15/16 [00:03<00:00,  4.06it/s]\u001b[A\n",
      "100%|██████████| 16/16 [00:03<00:00,  4.02it/s]\u001b[A\n",
      "\u001b[A\u001b[33m[21:25:10][WARNING] [Step 120] Saving for best loss : 0.81290 -> 0.67721 \u001b[0m\n",
      "\u001b[33m[21:25:11][WARNING] Epoch :  8 | Step :        7 | Train loss : 0.9830 | Train accuracy : 0.9109 | Val loss : 0.6772 | Val accuracy : 0.9231  \u001b[0m\n",
      "100%|██████████| 16/16 [00:09<00:00,  1.77it/s]\n",
      "\u001b[33m[21:25:13][WARNING] =================================== Epoch 8 Done ! =================================== \u001b[0m\n"
     ]
    },
    {
     "name": "stdout",
     "output_type": "stream",
     "text": [
      "INFO:tensorflow:Restoring parameters from /media/scatter/scatterdisk/reply_matching_model/runs/debug_embedding/debug_embedding/model.ckpt\n"
     ]
    },
    {
     "name": "stderr",
     "output_type": "stream",
     "text": [
      "100%|██████████| 16/16 [00:04<00:00,  3.75it/s]\n",
      "\u001b[33m[21:25:23][WARNING] | Val loss : 0.7866 | Val accuracy : 0.9247  \u001b[0m\n",
      "\u001b[33m[21:25:23][WARNING] =================================== Epoch 9 Start ! =================================== \u001b[0m\n",
      " 62%|██████▎   | 10/16 [00:01<00:01,  5.18it/s]"
     ]
    },
    {
     "name": "stdout",
     "output_type": "stream",
     "text": [
      "INFO:tensorflow:Restoring parameters from /media/scatter/scatterdisk/reply_matching_model/runs/debug_embedding/debug_embedding/model.ckpt\n"
     ]
    },
    {
     "name": "stderr",
     "output_type": "stream",
     "text": [
      "\n",
      "  0%|          | 0/16 [00:00<?, ?it/s]\u001b[A\n",
      "  6%|▋         | 1/16 [00:00<00:05,  2.87it/s]\u001b[A\n",
      " 12%|█▎        | 2/16 [00:00<00:03,  3.68it/s]\u001b[A\n",
      " 19%|█▉        | 3/16 [00:00<00:03,  3.74it/s]\u001b[A\n",
      " 25%|██▌       | 4/16 [00:01<00:03,  3.82it/s]\u001b[A\n",
      " 31%|███▏      | 5/16 [00:01<00:02,  3.88it/s]\u001b[A\n",
      " 38%|███▊      | 6/16 [00:01<00:02,  4.03it/s]\u001b[A\n",
      " 44%|████▍     | 7/16 [00:01<00:02,  4.00it/s]\u001b[A\n",
      " 50%|█████     | 8/16 [00:01<00:01,  4.05it/s]\u001b[A\n",
      " 56%|█████▋    | 9/16 [00:02<00:01,  3.77it/s]\u001b[A\n",
      " 62%|██████▎   | 10/16 [00:02<00:01,  3.72it/s]\u001b[A\n",
      " 69%|██████▉   | 11/16 [00:02<00:01,  3.71it/s]\u001b[A\n",
      " 75%|███████▌  | 12/16 [00:03<00:01,  3.69it/s]\u001b[A\n",
      " 81%|████████▏ | 13/16 [00:03<00:00,  3.73it/s]\u001b[A\n",
      " 88%|████████▊ | 14/16 [00:03<00:00,  3.80it/s]\u001b[A\n",
      " 94%|█████████▍| 15/16 [00:03<00:00,  3.80it/s]\u001b[A\n",
      "100%|██████████| 16/16 [00:04<00:00,  3.78it/s]\u001b[A\n",
      "\u001b[A\u001b[33m[21:25:30][WARNING] Epoch :  9 | Step :       11 | Train loss : 1.0403 | Train accuracy : 0.9132 | Val loss : 0.9690 | Val accuracy : 0.9326  \u001b[0m\n",
      "100%|██████████| 16/16 [00:07<00:00,  2.07it/s]\n",
      "\u001b[33m[21:25:31][WARNING] =================================== Epoch 9 Done ! =================================== \u001b[0m\n"
     ]
    },
    {
     "name": "stdout",
     "output_type": "stream",
     "text": [
      "INFO:tensorflow:Restoring parameters from /media/scatter/scatterdisk/reply_matching_model/runs/debug_embedding/debug_embedding/model.ckpt\n"
     ]
    },
    {
     "name": "stderr",
     "output_type": "stream",
     "text": [
      "100%|██████████| 16/16 [00:04<00:00,  3.97it/s]\n",
      "\u001b[33m[21:25:42][WARNING] | Val loss : 0.8757 | Val accuracy : 0.9262  \u001b[0m\n",
      "\u001b[33m[21:25:42][WARNING] =================================== Epoch 10 Start ! =================================== \u001b[0m\n",
      " 88%|████████▊ | 14/16 [00:02<00:00,  5.41it/s]"
     ]
    },
    {
     "name": "stdout",
     "output_type": "stream",
     "text": [
      "INFO:tensorflow:Restoring parameters from /media/scatter/scatterdisk/reply_matching_model/runs/debug_embedding/debug_embedding/model.ckpt\n"
     ]
    },
    {
     "name": "stderr",
     "output_type": "stream",
     "text": [
      "\n",
      "  0%|          | 0/16 [00:00<?, ?it/s]\u001b[A\n",
      "  6%|▋         | 1/16 [00:00<00:06,  2.41it/s]\u001b[A\n",
      " 12%|█▎        | 2/16 [00:00<00:04,  2.84it/s]\u001b[A\n",
      " 19%|█▉        | 3/16 [00:00<00:04,  3.13it/s]\u001b[A\n",
      " 25%|██▌       | 4/16 [00:01<00:03,  3.58it/s]\u001b[A\n",
      " 31%|███▏      | 5/16 [00:01<00:02,  3.70it/s]\u001b[A\n",
      " 38%|███▊      | 6/16 [00:01<00:02,  3.98it/s]\u001b[A\n",
      " 44%|████▍     | 7/16 [00:01<00:02,  4.10it/s]\u001b[A\n",
      " 50%|█████     | 8/16 [00:01<00:01,  4.16it/s]\u001b[A\n",
      " 56%|█████▋    | 9/16 [00:02<00:01,  3.84it/s]\u001b[A\n",
      " 62%|██████▎   | 10/16 [00:02<00:01,  3.89it/s]\u001b[A\n",
      " 69%|██████▉   | 11/16 [00:02<00:01,  3.81it/s]\u001b[A\n",
      " 75%|███████▌  | 12/16 [00:03<00:01,  3.85it/s]\u001b[A\n",
      " 81%|████████▏ | 13/16 [00:03<00:00,  3.82it/s]\u001b[A\n",
      " 88%|████████▊ | 14/16 [00:03<00:00,  3.83it/s]\u001b[A\n",
      " 94%|█████████▍| 15/16 [00:03<00:00,  3.85it/s]\u001b[A\n",
      "100%|██████████| 16/16 [00:04<00:00,  3.87it/s]\u001b[A\n",
      "\u001b[A\u001b[33m[21:25:49][WARNING] Epoch : 10 | Step :       15 | Train loss : 0.7732 | Train accuracy : 0.9204 | Val loss : 0.7691 | Val accuracy : 0.9258  \u001b[0m\n",
      "100%|██████████| 16/16 [00:07<00:00,  2.14it/s]\n",
      "\u001b[33m[21:25:49][WARNING] =================================== Epoch 10 Done ! =================================== \u001b[0m\n"
     ]
    },
    {
     "name": "stdout",
     "output_type": "stream",
     "text": [
      "INFO:tensorflow:Restoring parameters from /media/scatter/scatterdisk/reply_matching_model/runs/debug_embedding/debug_embedding/model.ckpt\n"
     ]
    },
    {
     "name": "stderr",
     "output_type": "stream",
     "text": [
      "100%|██████████| 16/16 [00:03<00:00,  4.00it/s]\n",
      "\u001b[33m[21:26:00][WARNING] | Val loss : 0.9243 | Val accuracy : 0.9262  \u001b[0m\n",
      "\u001b[33m[21:26:00][WARNING] =================================== Epoch 11 Start ! =================================== \u001b[0m\n",
      "100%|██████████| 16/16 [00:02<00:00,  5.48it/s]\n",
      "\u001b[33m[21:26:03][WARNING] =================================== Epoch 11 Done ! =================================== \u001b[0m\n"
     ]
    },
    {
     "name": "stdout",
     "output_type": "stream",
     "text": [
      "INFO:tensorflow:Restoring parameters from /media/scatter/scatterdisk/reply_matching_model/runs/debug_embedding/debug_embedding/model.ckpt\n"
     ]
    },
    {
     "name": "stderr",
     "output_type": "stream",
     "text": [
      "100%|██████████| 16/16 [00:04<00:00,  3.80it/s]\n",
      "\u001b[33m[21:26:14][WARNING] | Val loss : 0.8529 | Val accuracy : 0.9289  \u001b[0m\n",
      "\u001b[33m[21:26:14][WARNING] =================================== Epoch 12 Start ! =================================== \u001b[0m\n",
      " 12%|█▎        | 2/16 [00:00<00:03,  4.28it/s]"
     ]
    },
    {
     "name": "stdout",
     "output_type": "stream",
     "text": [
      "INFO:tensorflow:Restoring parameters from /media/scatter/scatterdisk/reply_matching_model/runs/debug_embedding/debug_embedding/model.ckpt\n"
     ]
    },
    {
     "name": "stderr",
     "output_type": "stream",
     "text": [
      "\n",
      "  0%|          | 0/16 [00:00<?, ?it/s]\u001b[A\n",
      "  6%|▋         | 1/16 [00:00<00:05,  2.79it/s]\u001b[A\n",
      " 12%|█▎        | 2/16 [00:00<00:04,  3.23it/s]\u001b[A\n",
      " 19%|█▉        | 3/16 [00:00<00:03,  3.27it/s]\u001b[A\n",
      " 25%|██▌       | 4/16 [00:01<00:03,  3.34it/s]\u001b[A\n",
      " 31%|███▏      | 5/16 [00:01<00:03,  3.41it/s]\u001b[A\n",
      " 38%|███▊      | 6/16 [00:01<00:02,  3.48it/s]\u001b[A\n",
      " 44%|████▍     | 7/16 [00:01<00:02,  3.53it/s]\u001b[A\n",
      " 50%|█████     | 8/16 [00:02<00:02,  3.55it/s]\u001b[A\n",
      " 56%|█████▋    | 9/16 [00:02<00:01,  3.51it/s]\u001b[A\n",
      " 62%|██████▎   | 10/16 [00:02<00:01,  3.51it/s]\u001b[A\n",
      " 69%|██████▉   | 11/16 [00:03<00:01,  3.53it/s]\u001b[A\n",
      " 75%|███████▌  | 12/16 [00:03<00:01,  3.59it/s]\u001b[A\n",
      " 81%|████████▏ | 13/16 [00:03<00:00,  3.58it/s]\u001b[A\n",
      " 88%|████████▊ | 14/16 [00:03<00:00,  3.68it/s]\u001b[A\n",
      " 94%|█████████▍| 15/16 [00:03<00:00,  3.75it/s]\u001b[A\n",
      "100%|██████████| 16/16 [00:04<00:00,  3.77it/s]\u001b[A\n",
      "\u001b[A\u001b[33m[21:26:19][WARNING] Epoch : 12 | Step :        3 | Train loss : 0.5993 | Train accuracy : 0.9399 | Val loss : 0.7852 | Val accuracy : 0.9329  \u001b[0m\n",
      "100%|██████████| 16/16 [00:07<00:00,  2.06it/s]\n",
      "\u001b[33m[21:26:22][WARNING] =================================== Epoch 12 Done ! =================================== \u001b[0m\n"
     ]
    },
    {
     "name": "stdout",
     "output_type": "stream",
     "text": [
      "INFO:tensorflow:Restoring parameters from /media/scatter/scatterdisk/reply_matching_model/runs/debug_embedding/debug_embedding/model.ckpt\n"
     ]
    },
    {
     "name": "stderr",
     "output_type": "stream",
     "text": [
      "100%|██████████| 16/16 [00:04<00:00,  3.87it/s]\n",
      "\u001b[33m[21:26:32][WARNING] [Step 193] Saving for best loss : 0.67721 -> 0.65815 \u001b[0m\n",
      "\u001b[33m[21:26:37][WARNING] | Val loss : 0.6581 | Val accuracy : 0.9317  \u001b[0m\n",
      "\u001b[33m[21:26:37][WARNING] =================================== Epoch 13 Start ! =================================== \u001b[0m\n",
      " 38%|███▊      | 6/16 [00:01<00:02,  4.66it/s]"
     ]
    },
    {
     "name": "stdout",
     "output_type": "stream",
     "text": [
      "INFO:tensorflow:Restoring parameters from /media/scatter/scatterdisk/reply_matching_model/runs/debug_embedding/debug_embedding/model.ckpt\n"
     ]
    },
    {
     "name": "stderr",
     "output_type": "stream",
     "text": [
      "\n",
      "  0%|          | 0/16 [00:00<?, ?it/s]\u001b[A\n",
      "  6%|▋         | 1/16 [00:00<00:04,  3.21it/s]\u001b[A\n",
      " 12%|█▎        | 2/16 [00:00<00:03,  3.69it/s]\u001b[A\n",
      " 19%|█▉        | 3/16 [00:00<00:03,  3.67it/s]\u001b[A\n",
      " 25%|██▌       | 4/16 [00:01<00:03,  3.78it/s]\u001b[A\n",
      " 31%|███▏      | 5/16 [00:01<00:02,  3.70it/s]\u001b[A\n",
      " 38%|███▊      | 6/16 [00:01<00:02,  3.81it/s]\u001b[A\n",
      " 44%|████▍     | 7/16 [00:01<00:02,  3.94it/s]\u001b[A\n",
      " 50%|█████     | 8/16 [00:02<00:02,  3.93it/s]\u001b[A\n",
      " 56%|█████▋    | 9/16 [00:02<00:01,  3.68it/s]\u001b[A\n",
      " 62%|██████▎   | 10/16 [00:02<00:01,  3.68it/s]\u001b[A\n",
      " 69%|██████▉   | 11/16 [00:02<00:01,  3.67it/s]\u001b[A\n",
      " 75%|███████▌  | 12/16 [00:03<00:01,  3.68it/s]\u001b[A\n",
      " 81%|████████▏ | 13/16 [00:03<00:00,  3.76it/s]\u001b[A\n",
      " 88%|████████▊ | 14/16 [00:03<00:00,  3.78it/s]\u001b[A\n",
      " 94%|█████████▍| 15/16 [00:03<00:00,  3.81it/s]\u001b[A\n",
      "100%|██████████| 16/16 [00:04<00:00,  3.87it/s]\u001b[A\n",
      "\u001b[A\u001b[33m[21:26:49][WARNING] Epoch : 13 | Step :        7 | Train loss : 0.6529 | Train accuracy : 0.9418 | Val loss : 0.9041 | Val accuracy : 0.9361  \u001b[0m\n",
      "100%|██████████| 16/16 [00:13<00:00,  1.19it/s]\n",
      "\u001b[33m[21:26:51][WARNING] =================================== Epoch 13 Done ! =================================== \u001b[0m\n"
     ]
    },
    {
     "name": "stdout",
     "output_type": "stream",
     "text": [
      "INFO:tensorflow:Restoring parameters from /media/scatter/scatterdisk/reply_matching_model/runs/debug_embedding/debug_embedding/model.ckpt\n"
     ]
    },
    {
     "name": "stderr",
     "output_type": "stream",
     "text": [
      "100%|██████████| 16/16 [00:04<00:00,  3.79it/s]\n",
      "\u001b[33m[21:27:01][WARNING] | Val loss : 0.7498 | Val accuracy : 0.9263  \u001b[0m\n",
      "\u001b[33m[21:27:01][WARNING] =================================== Epoch 14 Start ! =================================== \u001b[0m\n",
      " 62%|██████▎   | 10/16 [00:01<00:01,  5.24it/s]"
     ]
    },
    {
     "name": "stdout",
     "output_type": "stream",
     "text": [
      "INFO:tensorflow:Restoring parameters from /media/scatter/scatterdisk/reply_matching_model/runs/debug_embedding/debug_embedding/model.ckpt\n"
     ]
    },
    {
     "name": "stderr",
     "output_type": "stream",
     "text": [
      "\n",
      "  0%|          | 0/16 [00:00<?, ?it/s]\u001b[A\n",
      "  6%|▋         | 1/16 [00:00<00:06,  2.24it/s]\u001b[A\n",
      " 12%|█▎        | 2/16 [00:00<00:04,  2.88it/s]\u001b[A\n",
      " 19%|█▉        | 3/16 [00:00<00:04,  3.17it/s]\u001b[A\n",
      " 25%|██▌       | 4/16 [00:01<00:03,  3.30it/s]\u001b[A\n",
      " 31%|███▏      | 5/16 [00:01<00:03,  3.46it/s]\u001b[A\n",
      " 38%|███▊      | 6/16 [00:01<00:02,  3.52it/s]\u001b[A\n",
      " 44%|████▍     | 7/16 [00:01<00:02,  3.62it/s]\u001b[A\n",
      " 50%|█████     | 8/16 [00:02<00:02,  3.72it/s]\u001b[A\n",
      " 56%|█████▋    | 9/16 [00:02<00:01,  3.60it/s]\u001b[A\n",
      " 62%|██████▎   | 10/16 [00:02<00:01,  3.62it/s]\u001b[A\n",
      " 69%|██████▉   | 11/16 [00:03<00:01,  3.64it/s]\u001b[A\n",
      " 75%|███████▌  | 12/16 [00:03<00:01,  3.68it/s]\u001b[A\n",
      " 81%|████████▏ | 13/16 [00:03<00:00,  3.74it/s]\u001b[A\n",
      " 88%|████████▊ | 14/16 [00:03<00:00,  3.74it/s]\u001b[A\n",
      " 94%|█████████▍| 15/16 [00:04<00:00,  3.74it/s]\u001b[A\n",
      "100%|██████████| 16/16 [00:04<00:00,  3.77it/s]\u001b[A\n",
      "\u001b[A\u001b[33m[21:27:08][WARNING] Epoch : 14 | Step :       11 | Train loss : 0.8893 | Train accuracy : 0.9270 | Val loss : 0.7996 | Val accuracy : 0.9302  \u001b[0m\n",
      "100%|██████████| 16/16 [00:07<00:00,  2.13it/s]\n",
      "\u001b[33m[21:27:09][WARNING] =================================== Epoch 14 Done ! =================================== \u001b[0m\n"
     ]
    },
    {
     "name": "stdout",
     "output_type": "stream",
     "text": [
      "INFO:tensorflow:Restoring parameters from /media/scatter/scatterdisk/reply_matching_model/runs/debug_embedding/debug_embedding/model.ckpt\n"
     ]
    },
    {
     "name": "stderr",
     "output_type": "stream",
     "text": [
      "100%|██████████| 16/16 [00:04<00:00,  3.93it/s]\n",
      "\u001b[33m[21:27:18][WARNING] [Step 225] Saving for best loss : 0.65815 -> 0.54248 \u001b[0m\n",
      "\u001b[33m[21:27:23][WARNING] | Val loss : 0.5425 | Val accuracy : 0.9295  \u001b[0m\n",
      "\u001b[33m[21:27:23][WARNING] =================================== Epoch 15 Start ! =================================== \u001b[0m\n",
      " 88%|████████▊ | 14/16 [00:02<00:00,  5.26it/s]"
     ]
    },
    {
     "name": "stdout",
     "output_type": "stream",
     "text": [
      "INFO:tensorflow:Restoring parameters from /media/scatter/scatterdisk/reply_matching_model/runs/debug_embedding/debug_embedding/model.ckpt\n"
     ]
    },
    {
     "name": "stderr",
     "output_type": "stream",
     "text": [
      "\n",
      "  0%|          | 0/16 [00:00<?, ?it/s]\u001b[A\n",
      "  6%|▋         | 1/16 [00:00<00:06,  2.38it/s]\u001b[A\n",
      " 12%|█▎        | 2/16 [00:00<00:04,  2.84it/s]\u001b[A\n",
      " 19%|█▉        | 3/16 [00:00<00:04,  3.09it/s]\u001b[A\n",
      " 25%|██▌       | 4/16 [00:01<00:03,  3.39it/s]\u001b[A\n",
      " 31%|███▏      | 5/16 [00:01<00:03,  3.60it/s]\u001b[A\n",
      " 38%|███▊      | 6/16 [00:01<00:02,  3.87it/s]\u001b[A\n",
      " 44%|████▍     | 7/16 [00:01<00:02,  3.87it/s]\u001b[A\n",
      " 50%|█████     | 8/16 [00:02<00:02,  3.89it/s]\u001b[A\n",
      " 56%|█████▋    | 9/16 [00:02<00:01,  3.73it/s]\u001b[A\n",
      " 62%|██████▎   | 10/16 [00:02<00:01,  3.78it/s]\u001b[A\n",
      " 69%|██████▉   | 11/16 [00:02<00:01,  3.91it/s]\u001b[A\n",
      " 75%|███████▌  | 12/16 [00:03<00:01,  3.92it/s]\u001b[A\n",
      " 81%|████████▏ | 13/16 [00:03<00:00,  3.94it/s]\u001b[A\n",
      " 88%|████████▊ | 14/16 [00:03<00:00,  3.92it/s]\u001b[A\n",
      " 94%|█████████▍| 15/16 [00:03<00:00,  3.91it/s]\u001b[A\n",
      "100%|██████████| 16/16 [00:04<00:00,  3.88it/s]\u001b[A\n",
      "\u001b[A\u001b[33m[21:27:31][WARNING] Epoch : 15 | Step :       15 | Train loss : 0.6995 | Train accuracy : 0.9338 | Val loss : 0.6373 | Val accuracy : 0.9334  \u001b[0m\n",
      "100%|██████████| 16/16 [00:07<00:00,  2.10it/s]\n",
      "\u001b[33m[21:27:31][WARNING] =================================== Epoch 15 Done ! =================================== \u001b[0m\n"
     ]
    },
    {
     "name": "stdout",
     "output_type": "stream",
     "text": [
      "INFO:tensorflow:Restoring parameters from /media/scatter/scatterdisk/reply_matching_model/runs/debug_embedding/debug_embedding/model.ckpt\n"
     ]
    },
    {
     "name": "stderr",
     "output_type": "stream",
     "text": [
      "100%|██████████| 16/16 [00:04<00:00,  3.83it/s]\n",
      "\u001b[33m[21:27:41][WARNING] [Step 241] Saving for best loss : 0.54248 -> 0.53601 \u001b[0m\n",
      "\u001b[33m[21:27:47][WARNING] | Val loss : 0.5360 | Val accuracy : 0.9176  \u001b[0m\n",
      "\u001b[33m[21:27:47][WARNING] =================================== Epoch 16 Start ! =================================== \u001b[0m\n",
      "100%|██████████| 16/16 [00:02<00:00,  5.53it/s]\n",
      "\u001b[33m[21:27:50][WARNING] =================================== Epoch 16 Done ! =================================== \u001b[0m\n"
     ]
    },
    {
     "name": "stdout",
     "output_type": "stream",
     "text": [
      "INFO:tensorflow:Restoring parameters from /media/scatter/scatterdisk/reply_matching_model/runs/debug_embedding/debug_embedding/model.ckpt\n"
     ]
    },
    {
     "name": "stderr",
     "output_type": "stream",
     "text": [
      "100%|██████████| 16/16 [00:04<00:00,  3.58it/s]\n",
      "\u001b[33m[21:28:00][WARNING] | Val loss : 0.5521 | Val accuracy : 0.9271  \u001b[0m\n",
      "\u001b[33m[21:28:00][WARNING] =================================== Epoch 17 Start ! =================================== \u001b[0m\n",
      " 12%|█▎        | 2/16 [00:00<00:04,  3.37it/s]"
     ]
    },
    {
     "name": "stdout",
     "output_type": "stream",
     "text": [
      "INFO:tensorflow:Restoring parameters from /media/scatter/scatterdisk/reply_matching_model/runs/debug_embedding/debug_embedding/model.ckpt\n"
     ]
    },
    {
     "name": "stderr",
     "output_type": "stream",
     "text": [
      "\n",
      "  0%|          | 0/16 [00:00<?, ?it/s]\u001b[A\n",
      "  6%|▋         | 1/16 [00:00<00:07,  2.14it/s]\u001b[A\n",
      " 12%|█▎        | 2/16 [00:00<00:05,  2.73it/s]\u001b[A\n",
      " 19%|█▉        | 3/16 [00:00<00:04,  3.01it/s]\u001b[A\n",
      " 25%|██▌       | 4/16 [00:01<00:03,  3.06it/s]\u001b[A\n",
      " 31%|███▏      | 5/16 [00:01<00:03,  3.27it/s]\u001b[A\n",
      " 38%|███▊      | 6/16 [00:01<00:02,  3.48it/s]\u001b[A\n",
      " 44%|████▍     | 7/16 [00:01<00:02,  3.61it/s]\u001b[A\n",
      " 50%|█████     | 8/16 [00:02<00:02,  3.58it/s]\u001b[A\n",
      " 56%|█████▋    | 9/16 [00:02<00:02,  3.35it/s]\u001b[A\n",
      " 62%|██████▎   | 10/16 [00:02<00:01,  3.45it/s]\u001b[A\n",
      " 69%|██████▉   | 11/16 [00:03<00:01,  3.51it/s]\u001b[A\n",
      " 75%|███████▌  | 12/16 [00:03<00:01,  3.53it/s]\u001b[A\n",
      " 81%|████████▏ | 13/16 [00:03<00:00,  3.63it/s]\u001b[A\n",
      " 88%|████████▊ | 14/16 [00:03<00:00,  3.60it/s]\u001b[A\n",
      " 94%|█████████▍| 15/16 [00:04<00:00,  3.71it/s]\u001b[A\n",
      "100%|██████████| 16/16 [00:04<00:00,  3.68it/s]\u001b[A\n",
      "\u001b[A\u001b[33m[21:28:06][WARNING] [Step 260] Saving for best loss : 0.53601 -> 0.47835 \u001b[0m\n",
      "\u001b[33m[21:28:12][WARNING] Epoch : 17 | Step :        3 | Train loss : 0.2874 | Train accuracy : 0.9357 | Val loss : 0.4784 | Val accuracy : 0.9307  \u001b[0m\n",
      "100%|██████████| 16/16 [00:13<00:00,  1.17it/s]\n",
      "\u001b[33m[21:28:14][WARNING] =================================== Epoch 17 Done ! =================================== \u001b[0m\n"
     ]
    },
    {
     "name": "stdout",
     "output_type": "stream",
     "text": [
      "INFO:tensorflow:Restoring parameters from /media/scatter/scatterdisk/reply_matching_model/runs/debug_embedding/debug_embedding/model.ckpt\n"
     ]
    },
    {
     "name": "stderr",
     "output_type": "stream",
     "text": [
      "100%|██████████| 16/16 [00:04<00:00,  3.58it/s]\n",
      "\u001b[33m[21:28:25][WARNING] | Val loss : 0.5713 | Val accuracy : 0.9304  \u001b[0m\n",
      "\u001b[33m[21:28:25][WARNING] =================================== Epoch 18 Start ! =================================== \u001b[0m\n",
      " 38%|███▊      | 6/16 [00:01<00:01,  5.17it/s]"
     ]
    },
    {
     "name": "stdout",
     "output_type": "stream",
     "text": [
      "INFO:tensorflow:Restoring parameters from /media/scatter/scatterdisk/reply_matching_model/runs/debug_embedding/debug_embedding/model.ckpt\n"
     ]
    },
    {
     "name": "stderr",
     "output_type": "stream",
     "text": [
      "\n",
      "  0%|          | 0/16 [00:00<?, ?it/s]\u001b[A\n",
      "  6%|▋         | 1/16 [00:00<00:05,  2.90it/s]\u001b[A\n",
      " 12%|█▎        | 2/16 [00:00<00:04,  3.41it/s]\u001b[A\n",
      " 19%|█▉        | 3/16 [00:00<00:03,  3.51it/s]\u001b[A\n",
      " 25%|██▌       | 4/16 [00:01<00:03,  3.50it/s]\u001b[A\n",
      " 31%|███▏      | 5/16 [00:01<00:02,  3.72it/s]\u001b[A\n",
      " 38%|███▊      | 6/16 [00:01<00:02,  3.77it/s]\u001b[A\n",
      " 44%|████▍     | 7/16 [00:01<00:02,  3.77it/s]\u001b[A\n",
      " 50%|█████     | 8/16 [00:02<00:02,  3.88it/s]\u001b[A\n",
      " 56%|█████▋    | 9/16 [00:02<00:01,  3.64it/s]\u001b[A\n",
      " 62%|██████▎   | 10/16 [00:02<00:01,  3.83it/s]\u001b[A\n",
      " 69%|██████▉   | 11/16 [00:02<00:01,  3.95it/s]\u001b[A\n",
      " 75%|███████▌  | 12/16 [00:03<00:01,  3.99it/s]\u001b[A\n",
      " 81%|████████▏ | 13/16 [00:03<00:00,  4.06it/s]\u001b[A\n",
      " 88%|████████▊ | 14/16 [00:03<00:00,  4.09it/s]\u001b[A\n",
      " 94%|█████████▍| 15/16 [00:03<00:00,  4.07it/s]\u001b[A\n",
      "100%|██████████| 16/16 [00:03<00:00,  4.07it/s]\u001b[A\n",
      "\u001b[A\u001b[33m[21:28:30][WARNING] Epoch : 18 | Step :        7 | Train loss : 0.4569 | Train accuracy : 0.9460 | Val loss : 0.5471 | Val accuracy : 0.9317  \u001b[0m\n",
      "100%|██████████| 16/16 [00:07<00:00,  2.18it/s]\n",
      "\u001b[33m[21:28:32][WARNING] =================================== Epoch 18 Done ! =================================== \u001b[0m\n"
     ]
    },
    {
     "name": "stdout",
     "output_type": "stream",
     "text": [
      "INFO:tensorflow:Restoring parameters from /media/scatter/scatterdisk/reply_matching_model/runs/debug_embedding/debug_embedding/model.ckpt\n"
     ]
    },
    {
     "name": "stderr",
     "output_type": "stream",
     "text": [
      "100%|██████████| 16/16 [00:04<00:00,  3.64it/s]\n",
      "\u001b[33m[21:28:42][WARNING] | Val loss : 0.6391 | Val accuracy : 0.9410  \u001b[0m\n",
      "\u001b[33m[21:28:42][WARNING] =================================== Epoch 19 Start ! =================================== \u001b[0m\n",
      " 62%|██████▎   | 10/16 [00:01<00:01,  5.03it/s]"
     ]
    },
    {
     "name": "stdout",
     "output_type": "stream",
     "text": [
      "INFO:tensorflow:Restoring parameters from /media/scatter/scatterdisk/reply_matching_model/runs/debug_embedding/debug_embedding/model.ckpt\n"
     ]
    },
    {
     "name": "stderr",
     "output_type": "stream",
     "text": [
      "\n",
      "  0%|          | 0/16 [00:00<?, ?it/s]\u001b[A\n",
      "  6%|▋         | 1/16 [00:00<00:05,  2.82it/s]\u001b[A\n",
      " 12%|█▎        | 2/16 [00:00<00:04,  3.38it/s]\u001b[A\n",
      " 19%|█▉        | 3/16 [00:00<00:03,  3.45it/s]\u001b[A\n",
      " 25%|██▌       | 4/16 [00:01<00:03,  3.53it/s]\u001b[A\n",
      " 31%|███▏      | 5/16 [00:01<00:03,  3.57it/s]\u001b[A\n",
      " 38%|███▊      | 6/16 [00:01<00:02,  3.66it/s]\u001b[A\n",
      " 44%|████▍     | 7/16 [00:01<00:02,  3.86it/s]\u001b[A\n",
      " 50%|█████     | 8/16 [00:02<00:02,  3.91it/s]\u001b[A\n",
      " 56%|█████▋    | 9/16 [00:02<00:01,  3.69it/s]\u001b[A\n",
      " 62%|██████▎   | 10/16 [00:02<00:01,  3.70it/s]\u001b[A\n",
      " 69%|██████▉   | 11/16 [00:02<00:01,  3.70it/s]\u001b[A\n",
      " 75%|███████▌  | 12/16 [00:03<00:01,  3.68it/s]\u001b[A\n",
      " 81%|████████▏ | 13/16 [00:03<00:00,  3.69it/s]\u001b[A\n",
      " 88%|████████▊ | 14/16 [00:03<00:00,  3.70it/s]\u001b[A\n",
      " 94%|█████████▍| 15/16 [00:04<00:00,  3.70it/s]\u001b[A\n",
      "100%|██████████| 16/16 [00:04<00:00,  3.72it/s]\u001b[A\n",
      "\u001b[A\u001b[33m[21:28:55][WARNING] Epoch : 19 | Step :       11 | Train loss : 0.6718 | Train accuracy : 0.9361 | Val loss : 0.4974 | Val accuracy : 0.9442  \u001b[0m\n",
      "100%|██████████| 16/16 [00:13<00:00,  1.19it/s]\n",
      "\u001b[33m[21:28:56][WARNING] =================================== Epoch 19 Done ! =================================== \u001b[0m\n"
     ]
    },
    {
     "name": "stdout",
     "output_type": "stream",
     "text": [
      "INFO:tensorflow:Restoring parameters from /media/scatter/scatterdisk/reply_matching_model/runs/debug_embedding/debug_embedding/model.ckpt\n"
     ]
    },
    {
     "name": "stderr",
     "output_type": "stream",
     "text": [
      "100%|██████████| 16/16 [00:04<00:00,  3.84it/s]\n",
      "\u001b[33m[21:29:06][WARNING] | Val loss : 0.5297 | Val accuracy : 0.9490  \u001b[0m\n",
      "\u001b[33m[21:29:06][WARNING] =================================== Epoch 20 Start ! =================================== \u001b[0m\n",
      " 88%|████████▊ | 14/16 [00:02<00:00,  5.45it/s]"
     ]
    },
    {
     "name": "stdout",
     "output_type": "stream",
     "text": [
      "INFO:tensorflow:Restoring parameters from /media/scatter/scatterdisk/reply_matching_model/runs/debug_embedding/debug_embedding/model.ckpt\n"
     ]
    },
    {
     "name": "stderr",
     "output_type": "stream",
     "text": [
      "\n",
      "  0%|          | 0/16 [00:00<?, ?it/s]\u001b[A\n",
      "  6%|▋         | 1/16 [00:00<00:06,  2.34it/s]\u001b[A\n",
      " 12%|█▎        | 2/16 [00:00<00:05,  2.74it/s]\u001b[A\n",
      " 19%|█▉        | 3/16 [00:00<00:04,  3.18it/s]\u001b[A\n",
      " 25%|██▌       | 4/16 [00:01<00:03,  3.34it/s]\u001b[A\n",
      " 31%|███▏      | 5/16 [00:01<00:03,  3.39it/s]\u001b[A\n",
      " 38%|███▊      | 6/16 [00:01<00:02,  3.58it/s]\u001b[A\n",
      " 44%|████▍     | 7/16 [00:01<00:02,  3.81it/s]\u001b[A\n",
      " 50%|█████     | 8/16 [00:02<00:02,  3.86it/s]\u001b[A\n",
      " 56%|█████▋    | 9/16 [00:02<00:01,  3.66it/s]\u001b[A\n",
      " 62%|██████▎   | 10/16 [00:02<00:01,  3.75it/s]\u001b[A\n",
      " 69%|██████▉   | 11/16 [00:02<00:01,  3.77it/s]\u001b[A\n",
      " 75%|███████▌  | 12/16 [00:03<00:01,  3.78it/s]\u001b[A\n",
      " 81%|████████▏ | 13/16 [00:03<00:00,  3.77it/s]\u001b[A\n",
      " 88%|████████▊ | 14/16 [00:03<00:00,  3.78it/s]\u001b[A\n",
      " 94%|█████████▍| 15/16 [00:03<00:00,  3.80it/s]\u001b[A\n",
      "100%|██████████| 16/16 [00:04<00:00,  3.84it/s]\u001b[A\n",
      "\u001b[A\u001b[33m[21:29:13][WARNING] [Step 320] Saving for best loss : 0.47835 -> 0.29853 \u001b[0m\n",
      "\u001b[33m[21:29:19][WARNING] Epoch : 20 | Step :       15 | Train loss : 0.5967 | Train accuracy : 0.9367 | Val loss : 0.2985 | Val accuracy : 0.9510  \u001b[0m\n",
      "100%|██████████| 16/16 [00:13<00:00,  1.20it/s]\n",
      "\u001b[33m[21:29:19][WARNING] =================================== Epoch 20 Done ! =================================== \u001b[0m\n"
     ]
    },
    {
     "name": "stdout",
     "output_type": "stream",
     "text": [
      "INFO:tensorflow:Restoring parameters from /media/scatter/scatterdisk/reply_matching_model/runs/debug_embedding/debug_embedding/model.ckpt\n"
     ]
    },
    {
     "name": "stderr",
     "output_type": "stream",
     "text": [
      "100%|██████████| 16/16 [00:04<00:00,  3.88it/s]\n",
      "\u001b[33m[21:29:30][WARNING] | Val loss : 0.5025 | Val accuracy : 0.9389  \u001b[0m\n",
      "\u001b[33m[21:29:30][WARNING] =================================== Epoch 21 Start ! =================================== \u001b[0m\n",
      "100%|██████████| 16/16 [00:03<00:00,  5.21it/s]\n",
      "\u001b[33m[21:29:33][WARNING] =================================== Epoch 21 Done ! =================================== \u001b[0m\n"
     ]
    },
    {
     "name": "stdout",
     "output_type": "stream",
     "text": [
      "INFO:tensorflow:Restoring parameters from /media/scatter/scatterdisk/reply_matching_model/runs/debug_embedding/debug_embedding/model.ckpt\n"
     ]
    },
    {
     "name": "stderr",
     "output_type": "stream",
     "text": [
      "100%|██████████| 16/16 [00:04<00:00,  3.81it/s]\n",
      "\u001b[33m[21:29:43][WARNING] | Val loss : 0.5713 | Val accuracy : 0.9448  \u001b[0m\n",
      "\u001b[33m[21:29:43][WARNING] =================================== Epoch 22 Start ! =================================== \u001b[0m\n",
      " 12%|█▎        | 2/16 [00:00<00:03,  3.83it/s]"
     ]
    },
    {
     "name": "stdout",
     "output_type": "stream",
     "text": [
      "INFO:tensorflow:Restoring parameters from /media/scatter/scatterdisk/reply_matching_model/runs/debug_embedding/debug_embedding/model.ckpt\n"
     ]
    },
    {
     "name": "stderr",
     "output_type": "stream",
     "text": [
      "\n",
      "  0%|          | 0/16 [00:00<?, ?it/s]\u001b[A\n",
      "  6%|▋         | 1/16 [00:00<00:04,  3.15it/s]\u001b[A\n",
      " 12%|█▎        | 2/16 [00:00<00:04,  3.27it/s]\u001b[A\n",
      " 19%|█▉        | 3/16 [00:00<00:03,  3.54it/s]\u001b[A\n",
      " 25%|██▌       | 4/16 [00:01<00:03,  3.78it/s]\u001b[A\n",
      " 31%|███▏      | 5/16 [00:01<00:02,  3.98it/s]\u001b[A\n",
      " 38%|███▊      | 6/16 [00:01<00:02,  4.05it/s]\u001b[A\n",
      " 44%|████▍     | 7/16 [00:01<00:02,  4.11it/s]\u001b[A\n",
      " 50%|█████     | 8/16 [00:01<00:01,  4.21it/s]\u001b[A\n",
      " 56%|█████▋    | 9/16 [00:02<00:01,  3.96it/s]\u001b[A\n",
      " 62%|██████▎   | 10/16 [00:02<00:01,  4.01it/s]\u001b[A\n",
      " 69%|██████▉   | 11/16 [00:02<00:01,  3.97it/s]\u001b[A\n",
      " 75%|███████▌  | 12/16 [00:03<00:01,  3.93it/s]\u001b[A\n",
      " 81%|████████▏ | 13/16 [00:03<00:00,  3.96it/s]\u001b[A\n",
      " 88%|████████▊ | 14/16 [00:03<00:00,  3.96it/s]\u001b[A\n",
      " 94%|█████████▍| 15/16 [00:03<00:00,  3.98it/s]\u001b[A\n",
      "100%|██████████| 16/16 [00:04<00:00,  3.95it/s]\u001b[A\n",
      "\u001b[A\u001b[33m[21:29:48][WARNING] Epoch : 22 | Step :        3 | Train loss : 0.4340 | Train accuracy : 0.9537 | Val loss : 0.5240 | Val accuracy : 0.9430  \u001b[0m\n",
      "100%|██████████| 16/16 [00:07<00:00,  2.13it/s]\n",
      "\u001b[33m[21:29:50][WARNING] =================================== Epoch 22 Done ! =================================== \u001b[0m\n"
     ]
    },
    {
     "name": "stdout",
     "output_type": "stream",
     "text": [
      "INFO:tensorflow:Restoring parameters from /media/scatter/scatterdisk/reply_matching_model/runs/debug_embedding/debug_embedding/model.ckpt\n"
     ]
    },
    {
     "name": "stderr",
     "output_type": "stream",
     "text": [
      "100%|██████████| 16/16 [00:03<00:00,  4.00it/s]\n",
      "\u001b[33m[21:30:00][WARNING] | Val loss : 0.3585 | Val accuracy : 0.9553  \u001b[0m\n",
      "\u001b[33m[21:30:00][WARNING] =================================== Epoch 23 Start ! =================================== \u001b[0m\n",
      " 38%|███▊      | 6/16 [00:01<00:02,  4.54it/s]"
     ]
    },
    {
     "name": "stdout",
     "output_type": "stream",
     "text": [
      "INFO:tensorflow:Restoring parameters from /media/scatter/scatterdisk/reply_matching_model/runs/debug_embedding/debug_embedding/model.ckpt\n"
     ]
    },
    {
     "name": "stderr",
     "output_type": "stream",
     "text": [
      "\n",
      "  0%|          | 0/16 [00:00<?, ?it/s]\u001b[A\n",
      "  6%|▋         | 1/16 [00:00<00:05,  2.52it/s]\u001b[A\n",
      " 12%|█▎        | 2/16 [00:00<00:04,  3.15it/s]\u001b[A\n",
      " 19%|█▉        | 3/16 [00:00<00:03,  3.45it/s]\u001b[A\n",
      " 25%|██▌       | 4/16 [00:01<00:03,  3.53it/s]\u001b[A\n",
      " 31%|███▏      | 5/16 [00:01<00:02,  3.78it/s]\u001b[A\n",
      " 38%|███▊      | 6/16 [00:01<00:02,  3.93it/s]\u001b[A\n",
      " 44%|████▍     | 7/16 [00:01<00:02,  3.90it/s]\u001b[A\n",
      " 50%|█████     | 8/16 [00:02<00:02,  3.90it/s]\u001b[A\n",
      " 56%|█████▋    | 9/16 [00:02<00:01,  3.66it/s]\u001b[A\n",
      " 62%|██████▎   | 10/16 [00:02<00:01,  3.68it/s]\u001b[A\n",
      " 69%|██████▉   | 11/16 [00:02<00:01,  3.77it/s]\u001b[A\n",
      " 75%|███████▌  | 12/16 [00:03<00:01,  3.77it/s]\u001b[A\n",
      " 81%|████████▏ | 13/16 [00:03<00:00,  3.82it/s]\u001b[A\n",
      " 88%|████████▊ | 14/16 [00:03<00:00,  3.89it/s]\u001b[A\n",
      " 94%|█████████▍| 15/16 [00:03<00:00,  3.89it/s]\u001b[A\n",
      "100%|██████████| 16/16 [00:04<00:00,  3.86it/s]\u001b[A\n",
      "\u001b[A\u001b[33m[21:30:06][WARNING] Epoch : 23 | Step :        7 | Train loss : 0.3996 | Train accuracy : 0.9464 | Val loss : 0.4996 | Val accuracy : 0.9519  \u001b[0m\n",
      "100%|██████████| 16/16 [00:07<00:00,  2.08it/s]\n",
      "\u001b[33m[21:30:08][WARNING] =================================== Epoch 23 Done ! =================================== \u001b[0m\n"
     ]
    },
    {
     "name": "stdout",
     "output_type": "stream",
     "text": [
      "INFO:tensorflow:Restoring parameters from /media/scatter/scatterdisk/reply_matching_model/runs/debug_embedding/debug_embedding/model.ckpt\n"
     ]
    },
    {
     "name": "stderr",
     "output_type": "stream",
     "text": [
      "100%|██████████| 16/16 [00:04<00:00,  3.93it/s]\n",
      "\u001b[33m[21:30:18][WARNING] | Val loss : 0.3505 | Val accuracy : 0.9543  \u001b[0m\n",
      "\u001b[33m[21:30:18][WARNING] =================================== Epoch 24 Start ! =================================== \u001b[0m\n",
      " 62%|██████▎   | 10/16 [00:01<00:01,  5.02it/s]"
     ]
    },
    {
     "name": "stdout",
     "output_type": "stream",
     "text": [
      "INFO:tensorflow:Restoring parameters from /media/scatter/scatterdisk/reply_matching_model/runs/debug_embedding/debug_embedding/model.ckpt\n"
     ]
    },
    {
     "name": "stderr",
     "output_type": "stream",
     "text": [
      "\n",
      "  0%|          | 0/16 [00:00<?, ?it/s]\u001b[A\n",
      "  6%|▋         | 1/16 [00:00<00:04,  3.02it/s]\u001b[A\n",
      " 12%|█▎        | 2/16 [00:00<00:04,  3.31it/s]\u001b[A\n",
      " 19%|█▉        | 3/16 [00:00<00:03,  3.41it/s]\u001b[A\n",
      " 25%|██▌       | 4/16 [00:01<00:03,  3.46it/s]\u001b[A\n",
      " 31%|███▏      | 5/16 [00:01<00:03,  3.45it/s]\u001b[A\n",
      " 38%|███▊      | 6/16 [00:01<00:02,  3.53it/s]\u001b[A\n",
      " 44%|████▍     | 7/16 [00:01<00:02,  3.54it/s]\u001b[A\n",
      " 50%|█████     | 8/16 [00:02<00:02,  3.65it/s]\u001b[A\n",
      " 56%|█████▋    | 9/16 [00:02<00:02,  3.42it/s]\u001b[A\n",
      " 62%|██████▎   | 10/16 [00:02<00:01,  3.43it/s]\u001b[A\n",
      " 69%|██████▉   | 11/16 [00:03<00:01,  3.54it/s]\u001b[A\n",
      " 75%|███████▌  | 12/16 [00:03<00:01,  3.55it/s]\u001b[A\n",
      " 81%|████████▏ | 13/16 [00:03<00:00,  3.57it/s]\u001b[A\n",
      " 88%|████████▊ | 14/16 [00:03<00:00,  3.56it/s]\u001b[A\n",
      " 94%|█████████▍| 15/16 [00:04<00:00,  3.58it/s]\u001b[A\n",
      "100%|██████████| 16/16 [00:04<00:00,  3.63it/s]\u001b[A\n",
      "\u001b[A\u001b[33m[21:30:25][WARNING] Epoch : 24 | Step :       11 | Train loss : 0.3330 | Train accuracy : 0.9389 | Val loss : 0.3856 | Val accuracy : 0.9546  \u001b[0m\n",
      "100%|██████████| 16/16 [00:07<00:00,  2.02it/s]\n",
      "\u001b[33m[21:30:26][WARNING] =================================== Epoch 24 Done ! =================================== \u001b[0m\n"
     ]
    },
    {
     "name": "stdout",
     "output_type": "stream",
     "text": [
      "INFO:tensorflow:Restoring parameters from /media/scatter/scatterdisk/reply_matching_model/runs/debug_embedding/debug_embedding/model.ckpt\n"
     ]
    },
    {
     "name": "stderr",
     "output_type": "stream",
     "text": [
      "100%|██████████| 16/16 [00:04<00:00,  3.83it/s]\n",
      "\u001b[33m[21:30:36][WARNING] | Val loss : 0.3512 | Val accuracy : 0.9520  \u001b[0m\n",
      "\u001b[33m[21:30:36][WARNING] =================================== Epoch 25 Start ! =================================== \u001b[0m\n",
      " 88%|████████▊ | 14/16 [00:02<00:00,  5.24it/s]"
     ]
    },
    {
     "name": "stdout",
     "output_type": "stream",
     "text": [
      "INFO:tensorflow:Restoring parameters from /media/scatter/scatterdisk/reply_matching_model/runs/debug_embedding/debug_embedding/model.ckpt\n"
     ]
    },
    {
     "name": "stderr",
     "output_type": "stream",
     "text": [
      "\n",
      "  0%|          | 0/16 [00:00<?, ?it/s]\u001b[A\n",
      "  6%|▋         | 1/16 [00:00<00:06,  2.35it/s]\u001b[A\n",
      " 12%|█▎        | 2/16 [00:00<00:04,  3.44it/s]\u001b[A\n",
      " 19%|█▉        | 3/16 [00:00<00:03,  3.87it/s]\u001b[A\n",
      " 25%|██▌       | 4/16 [00:01<00:03,  3.98it/s]\u001b[A\n",
      " 31%|███▏      | 5/16 [00:01<00:02,  4.09it/s]\u001b[A\n",
      " 38%|███▊      | 6/16 [00:01<00:02,  3.96it/s]\u001b[A\n",
      " 44%|████▍     | 7/16 [00:01<00:02,  3.90it/s]\u001b[A\n",
      " 50%|█████     | 8/16 [00:02<00:02,  3.95it/s]\u001b[A\n",
      " 56%|█████▋    | 9/16 [00:02<00:01,  3.69it/s]\u001b[A\n",
      " 62%|██████▎   | 10/16 [00:02<00:01,  3.86it/s]\u001b[A\n",
      " 69%|██████▉   | 11/16 [00:02<00:01,  3.97it/s]\u001b[A\n",
      " 75%|███████▌  | 12/16 [00:02<00:00,  4.02it/s]\u001b[A\n",
      " 81%|████████▏ | 13/16 [00:03<00:00,  4.07it/s]\u001b[A\n",
      " 88%|████████▊ | 14/16 [00:03<00:00,  4.02it/s]\u001b[A\n",
      " 94%|█████████▍| 15/16 [00:03<00:00,  4.09it/s]\u001b[A\n",
      "100%|██████████| 16/16 [00:03<00:00,  4.07it/s]\u001b[A\n",
      "\u001b[A\u001b[33m[21:30:49][WARNING] [Step 400] Saving for best loss : 0.29853 -> 0.29322 \u001b[0m\n",
      "\u001b[33m[21:30:55][WARNING] Epoch : 25 | Step :       15 | Train loss : 0.4753 | Train accuracy : 0.9490 | Val loss : 0.2932 | Val accuracy : 0.9530  \u001b[0m\n",
      "100%|██████████| 16/16 [00:18<00:00,  1.17s/it]\n",
      "\u001b[33m[21:30:55][WARNING] =================================== Epoch 25 Done ! =================================== \u001b[0m\n"
     ]
    },
    {
     "ename": "KeyboardInterrupt",
     "evalue": "",
     "output_type": "error",
     "traceback": [
      "\u001b[0;31m---------------------------------------------------------------------------\u001b[0m",
      "\u001b[0;31mKeyboardInterrupt\u001b[0m                         Traceback (most recent call last)",
      "\u001b[0;32m<ipython-input-9-3435b262f1ae>\u001b[0m in \u001b[0;36m<module>\u001b[0;34m()\u001b[0m\n\u001b[0;32m----> 1\u001b[0;31m \u001b[0mtrainer\u001b[0m\u001b[0;34m.\u001b[0m\u001b[0mtrain\u001b[0m\u001b[0;34m(\u001b[0m\u001b[0;34m)\u001b[0m\u001b[0;34m\u001b[0m\u001b[0m\n\u001b[0m",
      "\u001b[0;32m~/korean-text-matching-tf/trainer.py\u001b[0m in \u001b[0;36mtrain\u001b[0;34m(self)\u001b[0m\n\u001b[1;32m    380\u001b[0m             \u001b[0;31m# val step\u001b[0m\u001b[0;34m\u001b[0m\u001b[0;34m\u001b[0m\u001b[0m\n\u001b[1;32m    381\u001b[0m             \u001b[0mself\u001b[0m\u001b[0;34m.\u001b[0m\u001b[0mlogger\u001b[0m\u001b[0;34m.\u001b[0m\u001b[0mwarn\u001b[0m\u001b[0;34m(\u001b[0m\u001b[0;34m\"=\"\u001b[0m\u001b[0;34m*\u001b[0m\u001b[0;36m35\u001b[0m \u001b[0;34m+\u001b[0m \u001b[0;34m\" Epoch {} Done ! \"\u001b[0m\u001b[0;34m.\u001b[0m\u001b[0mformat\u001b[0m\u001b[0;34m(\u001b[0m\u001b[0mepoch\u001b[0m\u001b[0;34m)\u001b[0m \u001b[0;34m+\u001b[0m \u001b[0;34m\"=\"\u001b[0m\u001b[0;34m*\u001b[0m\u001b[0;36m35\u001b[0m\u001b[0;34m)\u001b[0m\u001b[0;34m\u001b[0m\u001b[0m\n\u001b[0;32m--> 382\u001b[0;31m             \u001b[0mtrain_model\u001b[0m\u001b[0;34m.\u001b[0m\u001b[0msave\u001b[0m\u001b[0;34m(\u001b[0m\u001b[0mtrain_sess\u001b[0m\u001b[0;34m,\u001b[0m \u001b[0mos\u001b[0m\u001b[0;34m.\u001b[0m\u001b[0mpath\u001b[0m\u001b[0;34m.\u001b[0m\u001b[0mjoin\u001b[0m\u001b[0;34m(\u001b[0m\u001b[0mself\u001b[0m\u001b[0;34m.\u001b[0m\u001b[0mcheckpoint_dir\u001b[0m\u001b[0;34m,\u001b[0m \u001b[0;34m\"model.ckpt\"\u001b[0m\u001b[0;34m)\u001b[0m\u001b[0;34m)\u001b[0m\u001b[0;34m\u001b[0m\u001b[0m\n\u001b[0m\u001b[1;32m    383\u001b[0m             \u001b[0mval_loss\u001b[0m\u001b[0;34m,\u001b[0m \u001b[0mval_score\u001b[0m \u001b[0;34m=\u001b[0m \u001b[0mself\u001b[0m\u001b[0;34m.\u001b[0m\u001b[0mval\u001b[0m\u001b[0;34m(\u001b[0m\u001b[0mval_model\u001b[0m\u001b[0;34m,\u001b[0m \u001b[0mval_sess\u001b[0m\u001b[0;34m,\u001b[0m \u001b[0mself\u001b[0m\u001b[0;34m.\u001b[0m\u001b[0mglobal_step\u001b[0m\u001b[0;34m)\u001b[0m\u001b[0;34m\u001b[0m\u001b[0m\n\u001b[1;32m    384\u001b[0m             \u001b[0mself\u001b[0m\u001b[0;34m.\u001b[0m\u001b[0mlogger\u001b[0m\u001b[0;34m.\u001b[0m\u001b[0mwarn\u001b[0m\u001b[0;34m(\u001b[0m\u001b[0mself\u001b[0m\u001b[0;34m.\u001b[0m\u001b[0mval_summary\u001b[0m\u001b[0;34m.\u001b[0m\u001b[0mformat\u001b[0m\u001b[0;34m(\u001b[0m\u001b[0mval_loss\u001b[0m\u001b[0;34m,\u001b[0m \u001b[0mval_score\u001b[0m\u001b[0;34m)\u001b[0m\u001b[0;34m)\u001b[0m\u001b[0;34m\u001b[0m\u001b[0m\n",
      "\u001b[0;32m~/korean-text-matching-tf/models/base.py\u001b[0m in \u001b[0;36msave\u001b[0;34m(self, sess, save_dir)\u001b[0m\n\u001b[1;32m     15\u001b[0m     \u001b[0;31m# save function that saves the checkpoint in the path defined in the config file\u001b[0m\u001b[0;34m\u001b[0m\u001b[0;34m\u001b[0m\u001b[0m\n\u001b[1;32m     16\u001b[0m     \u001b[0;32mdef\u001b[0m \u001b[0msave\u001b[0m\u001b[0;34m(\u001b[0m\u001b[0mself\u001b[0m\u001b[0;34m,\u001b[0m \u001b[0msess\u001b[0m\u001b[0;34m,\u001b[0m \u001b[0msave_dir\u001b[0m\u001b[0;34m)\u001b[0m\u001b[0;34m:\u001b[0m\u001b[0;34m\u001b[0m\u001b[0m\n\u001b[0;32m---> 17\u001b[0;31m         \u001b[0mself\u001b[0m\u001b[0;34m.\u001b[0m\u001b[0msaver\u001b[0m\u001b[0;34m.\u001b[0m\u001b[0msave\u001b[0m\u001b[0;34m(\u001b[0m\u001b[0msess\u001b[0m\u001b[0;34m,\u001b[0m \u001b[0msave_dir\u001b[0m\u001b[0;34m)\u001b[0m\u001b[0;34m\u001b[0m\u001b[0m\n\u001b[0m\u001b[1;32m     18\u001b[0m \u001b[0;34m\u001b[0m\u001b[0m\n\u001b[1;32m     19\u001b[0m     \u001b[0;31m# load latest checkpoint from the experiment path defined in the config file\u001b[0m\u001b[0;34m\u001b[0m\u001b[0;34m\u001b[0m\u001b[0m\n",
      "\u001b[0;32m~/angryenv/lib/python3.5/site-packages/tensorflow/python/training/saver.py\u001b[0m in \u001b[0;36msave\u001b[0;34m(self, sess, save_path, global_step, latest_filename, meta_graph_suffix, write_meta_graph, write_state, strip_default_attrs)\u001b[0m\n\u001b[1;32m   1650\u001b[0m           model_checkpoint_path = sess.run(\n\u001b[1;32m   1651\u001b[0m               \u001b[0mself\u001b[0m\u001b[0;34m.\u001b[0m\u001b[0msaver_def\u001b[0m\u001b[0;34m.\u001b[0m\u001b[0msave_tensor_name\u001b[0m\u001b[0;34m,\u001b[0m\u001b[0;34m\u001b[0m\u001b[0m\n\u001b[0;32m-> 1652\u001b[0;31m               {self.saver_def.filename_tensor_name: checkpoint_file})\n\u001b[0m\u001b[1;32m   1653\u001b[0m \u001b[0;34m\u001b[0m\u001b[0m\n\u001b[1;32m   1654\u001b[0m         \u001b[0mmodel_checkpoint_path\u001b[0m \u001b[0;34m=\u001b[0m \u001b[0mcompat\u001b[0m\u001b[0;34m.\u001b[0m\u001b[0mas_str\u001b[0m\u001b[0;34m(\u001b[0m\u001b[0mmodel_checkpoint_path\u001b[0m\u001b[0;34m)\u001b[0m\u001b[0;34m\u001b[0m\u001b[0m\n",
      "\u001b[0;32m~/angryenv/lib/python3.5/site-packages/tensorflow/python/client/session.py\u001b[0m in \u001b[0;36mrun\u001b[0;34m(self, fetches, feed_dict, options, run_metadata)\u001b[0m\n\u001b[1;32m    898\u001b[0m     \u001b[0;32mtry\u001b[0m\u001b[0;34m:\u001b[0m\u001b[0;34m\u001b[0m\u001b[0m\n\u001b[1;32m    899\u001b[0m       result = self._run(None, fetches, feed_dict, options_ptr,\n\u001b[0;32m--> 900\u001b[0;31m                          run_metadata_ptr)\n\u001b[0m\u001b[1;32m    901\u001b[0m       \u001b[0;32mif\u001b[0m \u001b[0mrun_metadata\u001b[0m\u001b[0;34m:\u001b[0m\u001b[0;34m\u001b[0m\u001b[0m\n\u001b[1;32m    902\u001b[0m         \u001b[0mproto_data\u001b[0m \u001b[0;34m=\u001b[0m \u001b[0mtf_session\u001b[0m\u001b[0;34m.\u001b[0m\u001b[0mTF_GetBuffer\u001b[0m\u001b[0;34m(\u001b[0m\u001b[0mrun_metadata_ptr\u001b[0m\u001b[0;34m)\u001b[0m\u001b[0;34m\u001b[0m\u001b[0m\n",
      "\u001b[0;32m~/angryenv/lib/python3.5/site-packages/tensorflow/python/client/session.py\u001b[0m in \u001b[0;36m_run\u001b[0;34m(self, handle, fetches, feed_dict, options, run_metadata)\u001b[0m\n\u001b[1;32m   1133\u001b[0m     \u001b[0;32mif\u001b[0m \u001b[0mfinal_fetches\u001b[0m \u001b[0;32mor\u001b[0m \u001b[0mfinal_targets\u001b[0m \u001b[0;32mor\u001b[0m \u001b[0;34m(\u001b[0m\u001b[0mhandle\u001b[0m \u001b[0;32mand\u001b[0m \u001b[0mfeed_dict_tensor\u001b[0m\u001b[0;34m)\u001b[0m\u001b[0;34m:\u001b[0m\u001b[0;34m\u001b[0m\u001b[0m\n\u001b[1;32m   1134\u001b[0m       results = self._do_run(handle, final_targets, final_fetches,\n\u001b[0;32m-> 1135\u001b[0;31m                              feed_dict_tensor, options, run_metadata)\n\u001b[0m\u001b[1;32m   1136\u001b[0m     \u001b[0;32melse\u001b[0m\u001b[0;34m:\u001b[0m\u001b[0;34m\u001b[0m\u001b[0m\n\u001b[1;32m   1137\u001b[0m       \u001b[0mresults\u001b[0m \u001b[0;34m=\u001b[0m \u001b[0;34m[\u001b[0m\u001b[0;34m]\u001b[0m\u001b[0;34m\u001b[0m\u001b[0m\n",
      "\u001b[0;32m~/angryenv/lib/python3.5/site-packages/tensorflow/python/client/session.py\u001b[0m in \u001b[0;36m_do_run\u001b[0;34m(self, handle, target_list, fetch_list, feed_dict, options, run_metadata)\u001b[0m\n\u001b[1;32m   1314\u001b[0m     \u001b[0;32mif\u001b[0m \u001b[0mhandle\u001b[0m \u001b[0;32mis\u001b[0m \u001b[0;32mNone\u001b[0m\u001b[0;34m:\u001b[0m\u001b[0;34m\u001b[0m\u001b[0m\n\u001b[1;32m   1315\u001b[0m       return self._do_call(_run_fn, feeds, fetches, targets, options,\n\u001b[0;32m-> 1316\u001b[0;31m                            run_metadata)\n\u001b[0m\u001b[1;32m   1317\u001b[0m     \u001b[0;32melse\u001b[0m\u001b[0;34m:\u001b[0m\u001b[0;34m\u001b[0m\u001b[0m\n\u001b[1;32m   1318\u001b[0m       \u001b[0;32mreturn\u001b[0m \u001b[0mself\u001b[0m\u001b[0;34m.\u001b[0m\u001b[0m_do_call\u001b[0m\u001b[0;34m(\u001b[0m\u001b[0m_prun_fn\u001b[0m\u001b[0;34m,\u001b[0m \u001b[0mhandle\u001b[0m\u001b[0;34m,\u001b[0m \u001b[0mfeeds\u001b[0m\u001b[0;34m,\u001b[0m \u001b[0mfetches\u001b[0m\u001b[0;34m)\u001b[0m\u001b[0;34m\u001b[0m\u001b[0m\n",
      "\u001b[0;32m~/angryenv/lib/python3.5/site-packages/tensorflow/python/client/session.py\u001b[0m in \u001b[0;36m_do_call\u001b[0;34m(self, fn, *args)\u001b[0m\n\u001b[1;32m   1320\u001b[0m   \u001b[0;32mdef\u001b[0m \u001b[0m_do_call\u001b[0m\u001b[0;34m(\u001b[0m\u001b[0mself\u001b[0m\u001b[0;34m,\u001b[0m \u001b[0mfn\u001b[0m\u001b[0;34m,\u001b[0m \u001b[0;34m*\u001b[0m\u001b[0margs\u001b[0m\u001b[0;34m)\u001b[0m\u001b[0;34m:\u001b[0m\u001b[0;34m\u001b[0m\u001b[0m\n\u001b[1;32m   1321\u001b[0m     \u001b[0;32mtry\u001b[0m\u001b[0;34m:\u001b[0m\u001b[0;34m\u001b[0m\u001b[0m\n\u001b[0;32m-> 1322\u001b[0;31m       \u001b[0;32mreturn\u001b[0m \u001b[0mfn\u001b[0m\u001b[0;34m(\u001b[0m\u001b[0;34m*\u001b[0m\u001b[0margs\u001b[0m\u001b[0;34m)\u001b[0m\u001b[0;34m\u001b[0m\u001b[0m\n\u001b[0m\u001b[1;32m   1323\u001b[0m     \u001b[0;32mexcept\u001b[0m \u001b[0merrors\u001b[0m\u001b[0;34m.\u001b[0m\u001b[0mOpError\u001b[0m \u001b[0;32mas\u001b[0m \u001b[0me\u001b[0m\u001b[0;34m:\u001b[0m\u001b[0;34m\u001b[0m\u001b[0m\n\u001b[1;32m   1324\u001b[0m       \u001b[0mmessage\u001b[0m \u001b[0;34m=\u001b[0m \u001b[0mcompat\u001b[0m\u001b[0;34m.\u001b[0m\u001b[0mas_text\u001b[0m\u001b[0;34m(\u001b[0m\u001b[0me\u001b[0m\u001b[0;34m.\u001b[0m\u001b[0mmessage\u001b[0m\u001b[0;34m)\u001b[0m\u001b[0;34m\u001b[0m\u001b[0m\n",
      "\u001b[0;32m~/angryenv/lib/python3.5/site-packages/tensorflow/python/client/session.py\u001b[0m in \u001b[0;36m_run_fn\u001b[0;34m(feed_dict, fetch_list, target_list, options, run_metadata)\u001b[0m\n\u001b[1;32m   1305\u001b[0m       \u001b[0mself\u001b[0m\u001b[0;34m.\u001b[0m\u001b[0m_extend_graph\u001b[0m\u001b[0;34m(\u001b[0m\u001b[0;34m)\u001b[0m\u001b[0;34m\u001b[0m\u001b[0m\n\u001b[1;32m   1306\u001b[0m       return self._call_tf_sessionrun(\n\u001b[0;32m-> 1307\u001b[0;31m           options, feed_dict, fetch_list, target_list, run_metadata)\n\u001b[0m\u001b[1;32m   1308\u001b[0m \u001b[0;34m\u001b[0m\u001b[0m\n\u001b[1;32m   1309\u001b[0m     \u001b[0;32mdef\u001b[0m \u001b[0m_prun_fn\u001b[0m\u001b[0;34m(\u001b[0m\u001b[0mhandle\u001b[0m\u001b[0;34m,\u001b[0m \u001b[0mfeed_dict\u001b[0m\u001b[0;34m,\u001b[0m \u001b[0mfetch_list\u001b[0m\u001b[0;34m)\u001b[0m\u001b[0;34m:\u001b[0m\u001b[0;34m\u001b[0m\u001b[0m\n",
      "\u001b[0;32m~/angryenv/lib/python3.5/site-packages/tensorflow/python/client/session.py\u001b[0m in \u001b[0;36m_call_tf_sessionrun\u001b[0;34m(self, options, feed_dict, fetch_list, target_list, run_metadata)\u001b[0m\n\u001b[1;32m   1407\u001b[0m       return tf_session.TF_SessionRun_wrapper(\n\u001b[1;32m   1408\u001b[0m           \u001b[0mself\u001b[0m\u001b[0;34m.\u001b[0m\u001b[0m_session\u001b[0m\u001b[0;34m,\u001b[0m \u001b[0moptions\u001b[0m\u001b[0;34m,\u001b[0m \u001b[0mfeed_dict\u001b[0m\u001b[0;34m,\u001b[0m \u001b[0mfetch_list\u001b[0m\u001b[0;34m,\u001b[0m \u001b[0mtarget_list\u001b[0m\u001b[0;34m,\u001b[0m\u001b[0;34m\u001b[0m\u001b[0m\n\u001b[0;32m-> 1409\u001b[0;31m           run_metadata)\n\u001b[0m\u001b[1;32m   1410\u001b[0m     \u001b[0;32melse\u001b[0m\u001b[0;34m:\u001b[0m\u001b[0;34m\u001b[0m\u001b[0m\n\u001b[1;32m   1411\u001b[0m       \u001b[0;32mwith\u001b[0m \u001b[0merrors\u001b[0m\u001b[0;34m.\u001b[0m\u001b[0mraise_exception_on_not_ok_status\u001b[0m\u001b[0;34m(\u001b[0m\u001b[0;34m)\u001b[0m \u001b[0;32mas\u001b[0m \u001b[0mstatus\u001b[0m\u001b[0;34m:\u001b[0m\u001b[0;34m\u001b[0m\u001b[0m\n",
      "\u001b[0;31mKeyboardInterrupt\u001b[0m: "
     ]
    }
   ],
   "source": [
    "trainer.train()"
   ]
  },
  {
   "cell_type": "code",
   "execution_count": null,
   "metadata": {},
   "outputs": [],
   "source": []
  }
 ],
 "metadata": {
  "kernelspec": {
   "display_name": "angryenv",
   "language": "python",
   "name": "angryenv"
  },
  "language_info": {
   "codemirror_mode": {
    "name": "ipython",
    "version": 3
   },
   "file_extension": ".py",
   "mimetype": "text/x-python",
   "name": "python",
   "nbconvert_exporter": "python",
   "pygments_lexer": "ipython3",
   "version": "3.5.2"
  }
 },
 "nbformat": 4,
 "nbformat_minor": 2
}
