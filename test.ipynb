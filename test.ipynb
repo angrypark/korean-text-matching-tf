{
 "cells": [
  {
   "cell_type": "markdown",
   "metadata": {},
   "source": [
    "import libraries"
   ]
  },
  {
   "cell_type": "code",
   "execution_count": 1,
   "metadata": {},
   "outputs": [],
   "source": [
    "import tensorflow as tf\n",
    "import argparse\n",
    "from datetime import datetime\n",
    "\n",
    "from data_loader import DataGenerator\n",
    "\n",
    "from trainer import Trainer\n",
    "from preprocessor import Preprocessor\n",
    "from utils.dirs import create_dirs\n",
    "from utils.logger import Logger\n",
    "\n",
    "now = datetime.now()"
   ]
  },
  {
   "cell_type": "markdown",
   "metadata": {},
   "source": [
    "define config"
   ]
  },
  {
   "cell_type": "code",
   "execution_count": 5,
   "metadata": {},
   "outputs": [],
   "source": [
    "class Config:\n",
    "    def __init__(self):\n",
    "        self.mode = \"train\"\n",
    "        self.config = \"\"\n",
    "        self.train_dir = \"\"\n",
    "        self.val_dir = \"\"\n",
    "        self.pretrained_embed_dir = \"/home/shuuki4/sandbox_project/fasttext/results/ft_256.bin\"\n",
    "        self.model = \"DualEncoderLSTM\"\n",
    "        self.normalizer = \"DummyNormalizer\"\n",
    "        self.tokenizer = \"DummyTokenizer\"\n",
    "        self.vocab_size = 2000000\n",
    "        self.learning_rate = 1e-1\n",
    "        self.min_length = 1\n",
    "        self.max_length = 20\n",
    "        self.lstm_dim = 512 # need to check\n",
    "        self.batch_size = 256\n",
    "        self.num_epochs = 200\n",
    "        self.evaluate_every = 1\n",
    "        self.checkpoint_every = 1\n",
    "        self.max_to_keep = 10\n",
    "        self.shuffle = True\n",
    "        self.gpu = 1\n",
    "        self.embed_dim = 256\n",
    "\n",
    "config = Config()"
   ]
  },
  {
   "cell_type": "markdown",
   "metadata": {},
   "source": [
    "let's make data"
   ]
  },
  {
   "cell_type": "code",
   "execution_count": null,
   "metadata": {},
   "outputs": [],
   "source": [
    "train_size = 10000\n",
    "val_size = 2000\n",
    "base_dir = \"/home/angrypark/sandbox/data/matching_model/raw_corpus/sol_selected_1.txt\"\n",
    "with open(base_dir, \"r\") as f1, open(\"data/train.txt\", \"w\") as f2:\n",
    "    for _ in range(train_size):\n",
    "        line = f.readline()\n",
    "        splits = line.split(\"\\t\")\n",
    "        f2.write(splits[1])"
   ]
  }
 ],
 "metadata": {
  "kernelspec": {
   "display_name": "Python 3",
   "language": "python",
   "name": "python3"
  },
  "language_info": {
   "codemirror_mode": {
    "name": "ipython",
    "version": 3
   },
   "file_extension": ".py",
   "mimetype": "text/x-python",
   "name": "python",
   "nbconvert_exporter": "python",
   "pygments_lexer": "ipython3",
   "version": "3.5.2"
  }
 },
 "nbformat": 4,
 "nbformat_minor": 2
}
